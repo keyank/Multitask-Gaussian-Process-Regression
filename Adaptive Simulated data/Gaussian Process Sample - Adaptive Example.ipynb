{
 "cells": [
  {
   "cell_type": "code",
   "execution_count": 8,
   "metadata": {},
   "outputs": [],
   "source": [
    "import numpy as np\n",
    "import sklearn\n",
    "import os\n",
    "import random\n",
    "import math\n",
    "import pickle\n",
    "\n",
    "from tqdm import tqdm\n",
    "from scipy.io import loadmat\n",
    "\n",
    "np.random.seed(1)\n",
    "import matplotlib.pyplot as plt\n"
   ]
  },
  {
   "cell_type": "code",
   "execution_count": 2,
   "metadata": {},
   "outputs": [],
   "source": [
    "def append_one(X):\n",
    "    n = len(X)\n",
    "    ones = np.zeros((n, 1)) + 1\n",
    "    X_new = np.concatenate([ones, X], axis= 1)\n",
    "    return X_new\n"
   ]
  },
  {
   "cell_type": "code",
   "execution_count": 3,
   "metadata": {},
   "outputs": [],
   "source": [
    "def Kernel_input(x1, x2):\n",
    "    numerator    = 2*np.dot(np.dot(x1, Sigma_u), x2 )\n",
    "    denominator1 = 1 + 2*np.dot(np.dot(x1, Sigma_u), x1 )\n",
    "    denominator2 = 1 + 2*np.dot(np.dot(x2, Sigma_u), x2 )\n",
    "    denominator  = math.sqrt(denominator1*denominator2)                           # See \"Computing with infinite networks\" for calculation of Expectation term \n",
    "    \n",
    "    Expectation_term = (2/np.pi) * math.asin( numerator/denominator )\n",
    "    similarity       = C_term +  Expectation_term                                 # See \"Multitask Neural networks meet Multitask Gaussian Process\" Paper for notation of C-term and Expectation term\n",
    "    return similarity "
   ]
  },
  {
   "cell_type": "code",
   "execution_count": 4,
   "metadata": {
    "scrolled": true
   },
   "outputs": [],
   "source": [
    "X_temp = np.linspace(-10, 10, 151)\n",
    "X_temp = X_temp.reshape((151, 1))\n",
    "X      = append_one(X_temp)\n"
   ]
  },
  {
   "cell_type": "markdown",
   "metadata": {},
   "source": [
    "# Hyperparemeters to Sample"
   ]
  },
  {
   "cell_type": "code",
   "execution_count": 5,
   "metadata": {},
   "outputs": [
    {
     "data": {
      "image/png": "[encoded data removed]",
      "text/plain": [
       "<Figure size 432x288 with 1 Axes>"
      ]
     },
     "metadata": {
      "needs_background": "light"
     },
     "output_type": "display_data"
    }
   ],
   "source": [
    "Sigma_u = math.pow(10, -1.5)*np.identity(2)\n",
    "C_term  = 1\n",
    "\n",
    "sample_mean = np.zeros(len(X))\n",
    "sample_var = np.zeros((len(X), len(X)))\n",
    "\n",
    "\n",
    "for i in range(0, len(X)):\n",
    "    for j in range(0, len(X)):\n",
    "        sample_var[i, j] = Kernel_input(X[i] , X[j])\n",
    "        \n",
    "\n",
    "        \n",
    "Y = np.random.multivariate_normal(sample_mean, sample_var)\n",
    "errors = np.random.multivariate_normal(np.zeros(len(X)) , 1e-3*np.identity(len(X)) )\n",
    "Y = Y + errors\n",
    "plt.scatter(X[:, 1], Y)\n",
    "plt.show()"
   ]
  },
  {
   "cell_type": "code",
   "execution_count": null,
   "metadata": {},
   "outputs": [],
   "source": []
  },
  {
   "cell_type": "code",
   "execution_count": 6,
   "metadata": {},
   "outputs": [],
   "source": [
    "# data = {\n",
    "#     \"X\" : X,\n",
    "#     \"Y\" : Y\n",
    "# }\n",
    "\n",
    "\n",
    "# import pickle\n",
    "# pickle.dump(data, open(\"adaptive_data2.pickle\", 'wb'))\n",
    "\n",
    "# loaded_data = pickle.load(open(\"adaptive_data2.pickle\", 'rb'))\n",
    "# plt.scatter(loaded_data[\"X\"][:, 1], loaded_data[\"Y\"])\n",
    "# plt.show()"
   ]
  },
  {
   "cell_type": "markdown",
   "metadata": {},
   "source": [
    "Notes \n",
    "\n",
    " =============================\n",
    "\n",
    " data1 = math.pow(10, 0.2)\n",
    " data2 = math.pow(10, -1.5)"
   ]
  },
  {
   "cell_type": "code",
   "execution_count": 10,
   "metadata": {},
   "outputs": [
    {
     "data": {
      "image/png": "[encoded data removed]",
      "text/plain": [
       "<Figure size 432x288 with 1 Axes>"
      ]
     },
     "metadata": {
      "needs_background": "light"
     },
     "output_type": "display_data"
    }
   ],
   "source": [
    "loaded_data = pickle.load(open(\"adaptive_data2.pickle\", 'rb'))\n",
    "plt.scatter(loaded_data[\"X\"][:, 1], loaded_data[\"Y\"])\n",
    "plt.show()"
   ]
  }
 ],
 "metadata": {
  "kernelspec": {
   "display_name": "Python 3",
   "language": "python",
   "name": "python3"
  },
  "language_info": {
   "codemirror_mode": {
    "name": "ipython",
    "version": 3
   },
   "file_extension": ".py",
   "mimetype": "text/x-python",
   "name": "python",
   "nbconvert_exporter": "python",
   "pygments_lexer": "ipython3",
   "version": "3.6.8"
  }
 },
 "nbformat": 4,
 "nbformat_minor": 2
}
