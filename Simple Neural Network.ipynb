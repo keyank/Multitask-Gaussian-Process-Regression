{
 "cells": [
  {
   "cell_type": "code",
   "execution_count": 1,
   "metadata": {},
   "outputs": [],
   "source": [
    "import numpy as np\n",
    "import sklearn\n",
    "import os\n",
    "import random\n",
    "import math\n",
    "\n",
    "from tqdm import tqdm\n",
    "from scipy.io import loadmat\n",
    "\n",
    "np.random.seed(1)\n"
   ]
  },
  {
   "cell_type": "code",
   "execution_count": 2,
   "metadata": {},
   "outputs": [],
   "source": [
    "full_train_data = loadmat('Data/sarcos_inv.mat')['sarcos_inv']\n",
    "full_test_data = loadmat('Data/sarcos_inv_test.mat')['sarcos_inv_test']"
   ]
  },
  {
   "cell_type": "code",
   "execution_count": 3,
   "metadata": {},
   "outputs": [],
   "source": [
    "def getData (full_train_data, full_test_data, num_train, num_validation, num_test):\n",
    "    idx_train = np.random.randint(full_train_data.shape[0], size=num_train)\n",
    "    idx_validation = np.random.randint(full_train_data.shape[0], size=num_validation)\n",
    "    idx_test = np.random.randint(full_test_data.shape[0], size=num_test)\n",
    "    train_data = full_train_data[idx_train, : ]\n",
    "    validation_data = full_train_data[idx_validation, :]\n",
    "    test_data = full_test_data[idx_test, : ]\n",
    "    return (train_data, validation_data, test_data)\n",
    "\n",
    "def Sep_X_and_Y(data, x_dim, y_dim):\n",
    "    X = data[:, :x_dim]\n",
    "    Y = data[:, x_dim: x_dim + y_dim ]\n",
    "    return X, Y\n",
    "\n",
    "def Unfold_Y(X, Y):\n",
    "    num_tasks = Y.shape[1]\n",
    "    X_new = np.vstack([X]*num_tasks)\n",
    "    Y_new = np.ndarray.flatten(Y, 'F')\n",
    "    T = np.arange(num_tasks)\n",
    "    T_new = np.repeat(T, X.shape[0])\n",
    "    return X_new, Y_new, T_new\n"
   ]
  },
  {
   "cell_type": "code",
   "execution_count": 4,
   "metadata": {},
   "outputs": [],
   "source": [
    "(train_data, validation_data, test_data) = getData(full_train_data, full_test_data, 500, 500, 500)\n",
    "\n",
    "X_train_org, Y_train_org = Sep_X_and_Y(train_data, 21, 2)\n",
    "X_valid_org, Y_valid_org = Sep_X_and_Y(validation_data, 21, 2)\n",
    "X_test_org , Y_test_org  = Sep_X_and_Y(test_data, 21, 2)\n",
    "\n",
    "X_train, Y_train, T_train = Unfold_Y(X_train_org, Y_train_org)\n",
    "X_valid, Y_valid, T_valid = Unfold_Y(X_valid_org, Y_valid_org)\n",
    "X_test , Y_test , T_test  = Unfold_Y(X_test_org , Y_test_org )"
   ]
  },
  {
   "cell_type": "code",
   "execution_count": 5,
   "metadata": {},
   "outputs": [
    {
     "name": "stdout",
     "output_type": "stream",
     "text": [
      "Random state =  0    MSE =  27.722191621097686\n",
      "Random state =  1    MSE =  30.55457555908436\n",
      "Random state =  2    MSE =  27.961018162407157\n",
      "Random state =  3    MSE =  30.55011687658578\n",
      "Random state =  4    MSE =  34.152698491103365\n"
     ]
    },
    {
     "name": "stderr",
     "output_type": "stream",
     "text": [
      "/Users/apple/anaconda3/lib/python3.6/site-packages/sklearn/neural_network/multilayer_perceptron.py:564: UserWarning: Training interrupted by user.\n",
      "  warnings.warn(\"Training interrupted by user.\")\n"
     ]
    }
   ],
   "source": [
    "from sklearn.neural_network import MLPRegressor\n",
    "\n",
    "num_hidd_units = 50\n",
    "\n",
    "for rs in range(0, 5):\n",
    "    clf = MLPRegressor(hidden_layer_sizes= (num_hidd_units, ), activation='logistic' ,random_state=rs,  solver='adam', max_iter=100000)\n",
    "    clf.fit(X_train_org, Y_train_org)\n",
    "    Y_pred_NN = clf.predict(X_valid_org)\n",
    "    diff = (Y_pred_NN - Y_valid_org).flatten()\n",
    "    loss = (np.dot(diff, diff)/len(diff))\n",
    "    print(\"Random state = \", rs,  \"   MSE = \",loss)"
   ]
  },
  {
   "cell_type": "code",
   "execution_count": 27,
   "metadata": {},
   "outputs": [
    {
     "data": {
      "text/plain": [
       "(44484, 28)"
      ]
     },
     "execution_count": 27,
     "metadata": {},
     "output_type": "execute_result"
    }
   ],
   "source": [
    "full_train_data.shape"
   ]
  }
 ],
 "metadata": {
  "kernelspec": {
   "display_name": "Python 3",
   "language": "python",
   "name": "python3"
  },
  "language_info": {
   "codemirror_mode": {
    "name": "ipython",
    "version": 3
   },
   "file_extension": ".py",
   "mimetype": "text/x-python",
   "name": "python",
   "nbconvert_exporter": "python",
   "pygments_lexer": "ipython3",
   "version": "3.6.8"
  }
 },
 "nbformat": 4,
 "nbformat_minor": 2
}
