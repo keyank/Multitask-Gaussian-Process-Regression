{
 "cells": [
  {
   "cell_type": "code",
   "execution_count": 1,
   "metadata": {},
   "outputs": [],
   "source": [
    "import numpy as np\n",
    "import sklearn\n",
    "import os\n",
    "import random\n",
    "import math\n",
    "\n",
    "from tqdm import tqdm\n",
    "from scipy.io import loadmat\n",
    "\n",
    "np.random.seed(1)\n"
   ]
  },
  {
   "cell_type": "markdown",
   "metadata": {},
   "source": [
    "# Data Processing"
   ]
  },
  {
   "cell_type": "code",
   "execution_count": 2,
   "metadata": {},
   "outputs": [],
   "source": [
    "full_train_data = loadmat('Data/sarcos_inv.mat')['sarcos_inv']\n",
    "full_test_data = loadmat('Data/sarcos_inv_test.mat')['sarcos_inv_test']"
   ]
  },
  {
   "cell_type": "code",
   "execution_count": 3,
   "metadata": {},
   "outputs": [],
   "source": [
    "def getData (full_train_data, full_test_data, num_train, num_validation, num_test):\n",
    "    \n",
    "    idx_train = np.random.randint(full_train_data.shape[0], size=num_train)\n",
    "    idx_validation = np.random.randint(full_train_data.shape[0], size=num_validation)\n",
    "    idx_test = np.random.randint(full_test_data.shape[0], size=num_test)\n",
    "    \n",
    "    train_data = full_train_data[idx_train, : ]\n",
    "    validation_data = full_train_data[idx_validation, :]\n",
    "    test_data = full_test_data[idx_test, : ]\n",
    "    return (train_data, validation_data, test_data)\n",
    "\n",
    "def Sep_X_and_Y(data, x_dim, y_dim):\n",
    "    X = data[:, :x_dim]\n",
    "    Y = data[:, x_dim: x_dim + y_dim ]\n",
    "    return X, Y\n",
    "\n",
    "def Unfold_Y(X, Y):\n",
    "    num_tasks = Y.shape[1]\n",
    "    X_new = np.vstack([X]*num_tasks)\n",
    "    Y_new = np.ndarray.flatten(Y, 'F')\n",
    "    T = np.arange(num_tasks)\n",
    "    T_new = np.repeat(T, X.shape[0])\n",
    "    return X_new, Y_new, T_new\n",
    "\n",
    "def append_one(X):\n",
    "    n = len(X)\n",
    "    ones = np.zeros((n, 1)) + 1\n",
    "    X_new = np.concatenate([ones, X], axis= 1)\n",
    "    return X_new\n",
    "\n",
    "def normalize_input(X):\n",
    "    A = (X - np.mean(X, axis=0))\n",
    "    B = A/np.std(A, axis=0)\n",
    "    return B\n",
    "\n",
    "def normalize_Y_matrix(Y):\n",
    "    A = (Y - np.mean(Y, axis=0))\n",
    "    return Y"
   ]
  },
  {
   "cell_type": "code",
   "execution_count": 4,
   "metadata": {},
   "outputs": [],
   "source": [
    "(train_data, validation_data, test_data) = getData(full_train_data, full_test_data, 500, 100, 500)\n",
    "\n",
    "X_train_org, Y_train_org = Sep_X_and_Y(train_data, 21, 2)\n",
    "X_valid_org, Y_valid_org = Sep_X_and_Y(validation_data, 21, 2)\n",
    "X_test_org , Y_test_org  = Sep_X_and_Y(test_data, 21, 2)\n",
    "\n",
    "\n",
    "X_train, Y_train, T_train = Unfold_Y(X_train_org, Y_train_org)\n",
    "X_valid, Y_valid, T_valid = Unfold_Y(X_valid_org, Y_valid_org)\n",
    "X_test , Y_test , T_test  = Unfold_Y(X_test_org , Y_test_org )\n",
    "\n",
    "\n",
    "X_train = append_one(X_train)\n",
    "X_valid = append_one(X_valid)\n",
    "X_test = append_one(X_test)"
   ]
  },
  {
   "cell_type": "markdown",
   "metadata": {},
   "source": [
    "# Multitask Gaussian Process"
   ]
  },
  {
   "cell_type": "code",
   "execution_count": 5,
   "metadata": {},
   "outputs": [],
   "source": [
    "def Kernel_input(x1, x2):  # K_input part of ICM kernel\n",
    "    numerator    = 2*np.dot(np.dot(x1, Sigma_u), x2 )\n",
    "    denominator1 = 1 + 2*np.dot(np.dot(x1, Sigma_u), x1 )\n",
    "    denominator2 = 1 + 2*np.dot(np.dot(x2, Sigma_u), x2 )\n",
    "    denominator  = math.sqrt(denominator1*denominator2) # See \"Computing with infinite networks\" for calculation of Expectation term \n",
    "    \n",
    "    Expectation_term = (2/np.pi) * math.asin( numerator/denominator )\n",
    "    similarity       = C_term +  Expectation_term  # See \"Multitask Neural networks meet Multitask Gaussian Process\" Paper for notation of C-term and Expectation term\n",
    "    return similarity \n",
    "\n",
    "\n",
    "def Kernel_task (t1, t2):   # K_task part of the ICM Kernels\n",
    "    return Omega2[t1, t2]\n",
    "\n",
    "\n",
    "def Kernel(x1, t1, x2, t2): # ICM Kernel - product of input and task dependent components\n",
    "    return Kernel_input(x1, x2)*Kernel_task(t1, t2)\n",
    "\n",
    "\n",
    "def mtgp_fit (X_train, T_train, Y_train, Noise_variance ): # Simple MTGP implementation with specified Kernels (here ICM kernels)\n",
    "    N = len(X_train)\n",
    "    K = np.zeros((N, N))\n",
    "            \n",
    "    for i in range(0, N):\n",
    "        for j in range(0, N):\n",
    "            K[i, j] = Kernel(X_train[i], T_train[i], X_train[j], T_train[j] )\n",
    "            \n",
    "    B = np.zeros((N, N))\n",
    "    for i in range(0, N):\n",
    "        B[i, i] = Noise_variance[T_train[i]]\n",
    "         \n",
    "    \n",
    "    C = K + B\n",
    "    C_inv = np.linalg.inv(C)\n",
    "    alpha = np.dot(C_inv, Y_train)\n",
    "    model = {\n",
    "        \"X_train\" :  X_train,\n",
    "        \"T_train\" :  T_train,\n",
    "        \"Y_train\" :  Y_train,\n",
    "        \"Noise_variance\" : Noise_variance,\n",
    "        \"C_inv\"   :  C_inv,\n",
    "        \"alpha\"   :  alpha,\n",
    "    }\n",
    "    \n",
    "    return model\n",
    "\n",
    "\n",
    "\n",
    "def mtgp_predict(X, T, model):\n",
    "    \n",
    "    n_train  = len(model[\"X_train\"])\n",
    "    n        = len(X)\n",
    "    K        = np.zeros((n_train, n))\n",
    "    \n",
    "    for i in range(0, n_train):\n",
    "        for j in range(0, n):\n",
    "            K[i, j] = Kernel( model[\"X_train\"][i], model[\"T_train\"][i], X[j] , T[j] )\n",
    "            \n",
    "    y_pred = np.dot(K.T, model[\"alpha\"] )\n",
    "    return y_pred\n",
    "\n",
    "\n",
    "from sklearn.metrics import mean_squared_error\n",
    "\n",
    "\n",
    "def get_stats (y_true, y_predict):\n",
    "    msr = mean_squared_error(y_true, y_predict)\n",
    "    stats ={\n",
    "        \"msr\" : msr\n",
    "    }\n",
    "    \n",
    "    return stats\n",
    "    "
   ]
  },
  {
   "cell_type": "markdown",
   "metadata": {},
   "source": [
    "# Hyperparameters"
   ]
  },
  {
   "cell_type": "code",
   "execution_count": 6,
   "metadata": {},
   "outputs": [],
   "source": [
    "# Temporary variables for convineance - remove after tuning\n",
    "\n",
    "temp_22_vec =  np.zeros(22) + 1\n",
    "temp_2x2    =  np.identity(2)\n",
    "temp_2      =  [1e-5, 1e-5]\n",
    "\n",
    "# Kernel Hyperparameters - Prior Hyperparameters\n",
    "\n",
    "Sigma_u =  np.diag( temp_22_vec ) # diagonal matrix of size = dimensions of X (current example: 21)\n",
    "C_term  =  1             # Proportionality Constant term for bias variance \n",
    "Omega2  =  temp_2x2      # Covariance between tasks - Symmetric matrix of size T X T \n",
    "\n",
    "\n",
    "# Noise Variance - Likelihood Hyperparameters\n",
    "Noise_variance = temp_2 # Noise variance - Vector of size T, number of tasks \n"
   ]
  },
  {
   "cell_type": "markdown",
   "metadata": {},
   "source": [
    "# Ranges for hyperparameter"
   ]
  },
  {
   "cell_type": "markdown",
   "metadata": {},
   "source": [
    "Noise_variance = (1e-1, 1e-8) for both -> log scale\n",
    "Sigma_u = (1e-6, 1e-2) -> log scale\n",
    "C_term -> No changes, fix to be 1\n",
    "Omega2 = -0.2 = (0, 2) for a11 and a22 and (-1.5, 1.5) for a21\n"
   ]
  },
  {
   "cell_type": "markdown",
   "metadata": {},
   "source": [
    "# Bayesian Optimization"
   ]
  },
  {
   "cell_type": "code",
   "execution_count": 7,
   "metadata": {},
   "outputs": [],
   "source": [
    "def get_Negative_Loss (\n",
    "    Sigma_u1,\n",
    "    Sigma_u2,\n",
    "    Sigma_u3,\n",
    "    Sigma_u4,\n",
    "    Sigma_u5,\n",
    "    Sigma_u6,\n",
    "    Sigma_u7,\n",
    "    Sigma_u8,\n",
    "    Sigma_u9,\n",
    "    Sigma_u10,\n",
    "    Sigma_u11,\n",
    "    Sigma_u12,\n",
    "    Sigma_u13,\n",
    "    Sigma_u14,\n",
    "    Sigma_u15,\n",
    "    Sigma_u16,\n",
    "    Sigma_u17,\n",
    "    Sigma_u18,\n",
    "    Sigma_u19,\n",
    "    Sigma_u20,\n",
    "    Sigma_u21,\n",
    "    Sigma_u22,\n",
    "    \n",
    "    Omega11, \n",
    "    Omega12, \n",
    "    Omega22,\n",
    "    \n",
    "    Noise_variance1,\n",
    "    Noise_variance2 \n",
    "):\n",
    "    \n",
    "    global Sigma_u\n",
    "    Sigma_u = np.diag ( \n",
    "        np.array(\n",
    "    [ \n",
    "     math.pow(10, Sigma_u1),\n",
    "     math.pow(10, Sigma_u2),\n",
    "     math.pow(10, Sigma_u3),\n",
    "     math.pow(10, Sigma_u4),\n",
    "     math.pow(10, Sigma_u5),\n",
    "     math.pow(10, Sigma_u6),\n",
    "     math.pow(10, Sigma_u7),\n",
    "     math.pow(10, Sigma_u8),\n",
    "     math.pow(10, Sigma_u9),\n",
    "     math.pow(10, Sigma_u10),\n",
    "     math.pow(10, Sigma_u11),\n",
    "     math.pow(10, Sigma_u12),\n",
    "     math.pow(10, Sigma_u13),\n",
    "     math.pow(10, Sigma_u14),\n",
    "     math.pow(10, Sigma_u15),\n",
    "     math.pow(10, Sigma_u16),\n",
    "     math.pow(10, Sigma_u17),\n",
    "     math.pow(10, Sigma_u18),\n",
    "     math.pow(10, Sigma_u19),\n",
    "     math.pow(10, Sigma_u20),\n",
    "     math.pow(10, Sigma_u21),\n",
    "     math.pow(10, Sigma_u22)\n",
    "    ] )\n",
    "    )\n",
    "        \n",
    "    global Omega2\n",
    "    Omega2 = np.array( [[Omega11, Omega12], [Omega12, Omega22]] )\n",
    "    \n",
    "    \n",
    "    global Noise_variance\n",
    "    Noise_variance = [math.pow(10, Noise_variance1) , math.pow(10, Noise_variance2)]\n",
    "    \n",
    "    \n",
    "    \n",
    "    model = mtgp_fit (X_train, T_train, Y_train, Noise_variance )\n",
    "    predict = mtgp_predict(X_valid, T_valid, model)\n",
    "    stats = get_stats(Y_valid, predict)\n",
    "    return -stats['msr']\n"
   ]
  },
  {
   "cell_type": "code",
   "execution_count": 8,
   "metadata": {},
   "outputs": [],
   "source": [
    "from bayes_opt import BayesianOptimization\n",
    "\n",
    "\n",
    "pbounds = {\n",
    "                \"Sigma_u1\" : (-6, -2),\n",
    "                \"Sigma_u2\" : (-6, -2),\n",
    "                \"Sigma_u3\" : (-6, -2),\n",
    "                \"Sigma_u4\" : (-6, -2),\n",
    "                \"Sigma_u5\" : (-6, -2),\n",
    "                \"Sigma_u6\" : (-6, -2),\n",
    "                \"Sigma_u7\" : (-6, -2),\n",
    "                \"Sigma_u8\" : (-6, -2),\n",
    "                \"Sigma_u9\" : (-6, -2),\n",
    "                \"Sigma_u10\" : (-6, -2),\n",
    "                \"Sigma_u11\" : (-6, -2),\n",
    "                \"Sigma_u12\" : (-6, -2),\n",
    "                \"Sigma_u13\" : (-6, -2),\n",
    "                \"Sigma_u14\" : (-6, -2),\n",
    "                \"Sigma_u15\" : (-6, -2),\n",
    "                \"Sigma_u16\" : (-6, -2),\n",
    "                \"Sigma_u17\" : (-6, -2),\n",
    "                \"Sigma_u18\" : (-6, -2),\n",
    "                \"Sigma_u19\" : (-6, -2),\n",
    "                \"Sigma_u20\" : (-6, -2),\n",
    "                \"Sigma_u21\" : (-6, -2),\n",
    "                \"Sigma_u22\" : (-6, -2),\n",
    "\n",
    "                \"Omega11\" : (0, 2) ,\n",
    "                \"Omega12\" : (-1.5, 1.5), \n",
    "                \"Omega22\" : (0, 2) ,\n",
    "\n",
    "                \"Noise_variance1\" : (-1, -8),\n",
    "                \"Noise_variance2\" : (-1, -8) \n",
    "          }\n",
    "\n",
    "\n",
    "optimizer = BayesianOptimization(\n",
    "    f= get_Negative_Loss,\n",
    "    pbounds=pbounds,\n",
    "    random_state=1,\n",
    ")\n",
    "\n"
   ]
  },
  {
   "cell_type": "code",
   "execution_count": 12,
   "metadata": {},
   "outputs": [
    {
     "name": "stdout",
     "output_type": "stream",
     "text": [
      "|   iter    |  target   | Noise_... | Noise_... |  Omega11  |  Omega12  |  Omega22  | Sigma_u1  | Sigma_u10 | Sigma_u11 | Sigma_u12 | Sigma_u13 | Sigma_u14 | Sigma_u15 | Sigma_u16 | Sigma_u17 | Sigma_u18 | Sigma_u19 | Sigma_u2  | Sigma_u20 | Sigma_u21 | Sigma_u22 | Sigma_u3  | Sigma_u4  | Sigma_u5  | Sigma_u6  | Sigma_u7  | Sigma_u8  | Sigma_u9  |\n",
      "-------------------------------------------------------------------------------------------------------------------------------------------------------------------------------------------------------------------------------------------------------------------------------------------------------------------------------------------------------------\n",
      "| \u001b[0m 111     \u001b[0m | \u001b[0m-424.4   \u001b[0m | \u001b[0m-2.298   \u001b[0m | \u001b[0m-7.532   \u001b[0m | \u001b[0m 1.872   \u001b[0m | \u001b[0m-0.6494  \u001b[0m | \u001b[0m 0.5493  \u001b[0m | \u001b[0m-3.794   \u001b[0m | \u001b[0m-5.259   \u001b[0m | \u001b[0m-4.232   \u001b[0m | \u001b[0m-5.259   \u001b[0m | \u001b[0m-2.21    \u001b[0m | \u001b[0m-4.025   \u001b[0m | \u001b[0m-2.144   \u001b[0m | \u001b[0m-3.42    \u001b[0m | \u001b[0m-4.063   \u001b[0m | \u001b[0m-2.129   \u001b[0m | \u001b[0m-5.427   \u001b[0m | \u001b[0m-3.471   \u001b[0m | \u001b[0m-3.352   \u001b[0m | \u001b[0m-4.265   \u001b[0m | \u001b[0m-5.763   \u001b[0m | \u001b[0m-4.029   \u001b[0m | \u001b[0m-4.139   \u001b[0m | \u001b[0m-2.773   \u001b[0m | \u001b[0m-4.973   \u001b[0m | \u001b[0m-4.434   \u001b[0m | \u001b[0m-5.039   \u001b[0m | \u001b[0m-3.254   \u001b[0m |\n",
      "| \u001b[0m 112     \u001b[0m | \u001b[0m-310.8   \u001b[0m | \u001b[0m-7.929   \u001b[0m | \u001b[0m-2.242   \u001b[0m | \u001b[0m 1.643   \u001b[0m | \u001b[0m-0.807   \u001b[0m | \u001b[0m 0.116   \u001b[0m | \u001b[0m-5.445   \u001b[0m | \u001b[0m-2.259   \u001b[0m | \u001b[0m-2.446   \u001b[0m | \u001b[0m-4.843   \u001b[0m | \u001b[0m-2.209   \u001b[0m | \u001b[0m-2.6     \u001b[0m | \u001b[0m-4.261   \u001b[0m | \u001b[0m-4.128   \u001b[0m | \u001b[0m-3.481   \u001b[0m | \u001b[0m-5.368   \u001b[0m | \u001b[0m-5.941   \u001b[0m | \u001b[0m-4.938   \u001b[0m | \u001b[0m-5.938   \u001b[0m | \u001b[0m-3.302   \u001b[0m | \u001b[0m-3.794   \u001b[0m | \u001b[0m-4.713   \u001b[0m | \u001b[0m-2.879   \u001b[0m | \u001b[0m-5.417   \u001b[0m | \u001b[0m-5.02    \u001b[0m | \u001b[0m-4.831   \u001b[0m | \u001b[0m-5.216   \u001b[0m | \u001b[0m-5.648   \u001b[0m |\n",
      "| \u001b[0m 113     \u001b[0m | \u001b[0m-9.66e+03\u001b[0m | \u001b[0m-7.09    \u001b[0m | \u001b[0m-1.617   \u001b[0m | \u001b[0m 1.367   \u001b[0m | \u001b[0m-1.139   \u001b[0m | \u001b[0m 0.0214  \u001b[0m | \u001b[0m-3.771   \u001b[0m | \u001b[0m-2.372   \u001b[0m | \u001b[0m-2.558   \u001b[0m | \u001b[0m-4.646   \u001b[0m | \u001b[0m-5.891   \u001b[0m | \u001b[0m-2.797   \u001b[0m | \u001b[0m-2.776   \u001b[0m | \u001b[0m-2.526   \u001b[0m | \u001b[0m-3.321   \u001b[0m | \u001b[0m-2.769   \u001b[0m | \u001b[0m-2.41    \u001b[0m | \u001b[0m-4.185   \u001b[0m | \u001b[0m-3.769   \u001b[0m | \u001b[0m-3.975   \u001b[0m | \u001b[0m-3.232   \u001b[0m | \u001b[0m-3.268   \u001b[0m | \u001b[0m-3.919   \u001b[0m | \u001b[0m-2.686   \u001b[0m | \u001b[0m-3.977   \u001b[0m | \u001b[0m-2.701   \u001b[0m | \u001b[0m-4.873   \u001b[0m | \u001b[0m-5.286   \u001b[0m |\n",
      "| \u001b[0m 114     \u001b[0m | \u001b[0m-99.73   \u001b[0m | \u001b[0m-7.789   \u001b[0m | \u001b[0m-6.194   \u001b[0m | \u001b[0m 0.5196  \u001b[0m | \u001b[0m 0.2437  \u001b[0m | \u001b[0m 1.911   \u001b[0m | \u001b[0m-5.677   \u001b[0m | \u001b[0m-5.666   \u001b[0m | \u001b[0m-3.523   \u001b[0m | \u001b[0m-5.102   \u001b[0m | \u001b[0m-2.939   \u001b[0m | \u001b[0m-3.727   \u001b[0m | \u001b[0m-3.335   \u001b[0m | \u001b[0m-5.569   \u001b[0m | \u001b[0m-5.663   \u001b[0m | \u001b[0m-3.5     \u001b[0m | \u001b[0m-4.361   \u001b[0m | \u001b[0m-5.651   \u001b[0m | \u001b[0m-4.516   \u001b[0m | \u001b[0m-3.311   \u001b[0m | \u001b[0m-5.242   \u001b[0m | \u001b[0m-2.417   \u001b[0m | \u001b[0m-2.201   \u001b[0m | \u001b[0m-2.154   \u001b[0m | \u001b[0m-3.08    \u001b[0m | \u001b[0m-4.375   \u001b[0m | \u001b[0m-3.025   \u001b[0m | \u001b[0m-4.848   \u001b[0m |\n",
      "| \u001b[0m 115     \u001b[0m | \u001b[0m-3.759e+0\u001b[0m | \u001b[0m-3.201   \u001b[0m | \u001b[0m-5.241   \u001b[0m | \u001b[0m 1.19    \u001b[0m | \u001b[0m 1.136   \u001b[0m | \u001b[0m 0.5092  \u001b[0m | \u001b[0m-2.935   \u001b[0m | \u001b[0m-2.236   \u001b[0m | \u001b[0m-5.996   \u001b[0m | \u001b[0m-4.096   \u001b[0m | \u001b[0m-3.372   \u001b[0m | \u001b[0m-2.627   \u001b[0m | \u001b[0m-5.265   \u001b[0m | \u001b[0m-2.575   \u001b[0m | \u001b[0m-4.543   \u001b[0m | \u001b[0m-2.431   \u001b[0m | \u001b[0m-5.889   \u001b[0m | \u001b[0m-5.658   \u001b[0m | \u001b[0m-2.074   \u001b[0m | \u001b[0m-3.562   \u001b[0m | \u001b[0m-4.329   \u001b[0m | \u001b[0m-5.323   \u001b[0m | \u001b[0m-3.4     \u001b[0m | \u001b[0m-5.852   \u001b[0m | \u001b[0m-4.754   \u001b[0m | \u001b[0m-4.706   \u001b[0m | \u001b[0m-3.57    \u001b[0m | \u001b[0m-3.397   \u001b[0m |\n",
      "| \u001b[0m 116     \u001b[0m | \u001b[0m-819.5   \u001b[0m | \u001b[0m-6.922   \u001b[0m | \u001b[0m-7.493   \u001b[0m | \u001b[0m 1.321   \u001b[0m | \u001b[0m 0.2345  \u001b[0m | \u001b[0m 0.7974  \u001b[0m | \u001b[0m-2.134   \u001b[0m | \u001b[0m-5.384   \u001b[0m | \u001b[0m-2.42    \u001b[0m | \u001b[0m-4.756   \u001b[0m | \u001b[0m-3.806   \u001b[0m | \u001b[0m-3.272   \u001b[0m | \u001b[0m-5.054   \u001b[0m | \u001b[0m-5.329   \u001b[0m | \u001b[0m-3.966   \u001b[0m | \u001b[0m-2.833   \u001b[0m | \u001b[0m-3.23    \u001b[0m | \u001b[0m-5.524   \u001b[0m | \u001b[0m-2.397   \u001b[0m | \u001b[0m-4.081   \u001b[0m | \u001b[0m-2.213   \u001b[0m | \u001b[0m-3.786   \u001b[0m | \u001b[0m-5.661   \u001b[0m | \u001b[0m-5.19    \u001b[0m | \u001b[0m-2.583   \u001b[0m | \u001b[0m-3.176   \u001b[0m | \u001b[0m-2.42    \u001b[0m | \u001b[0m-4.683   \u001b[0m |\n",
      "| \u001b[0m 117     \u001b[0m | \u001b[0m-32.06   \u001b[0m | \u001b[0m-4.696   \u001b[0m | \u001b[0m-5.553   \u001b[0m | \u001b[0m 1.189   \u001b[0m | \u001b[0m-0.8056  \u001b[0m | \u001b[0m 0.8536  \u001b[0m | \u001b[0m-5.008   \u001b[0m | \u001b[0m-2.618   \u001b[0m | \u001b[0m-2.053   \u001b[0m | \u001b[0m-5.734   \u001b[0m | \u001b[0m-3.144   \u001b[0m | \u001b[0m-4.68    \u001b[0m | \u001b[0m-3.498   \u001b[0m | \u001b[0m-4.967   \u001b[0m | \u001b[0m-3.396   \u001b[0m | \u001b[0m-4.515   \u001b[0m | \u001b[0m-4.821   \u001b[0m | \u001b[0m-2.353   \u001b[0m | \u001b[0m-2.23    \u001b[0m | \u001b[0m-3.546   \u001b[0m | \u001b[0m-5.142   \u001b[0m | \u001b[0m-2.242   \u001b[0m | \u001b[0m-2.998   \u001b[0m | \u001b[0m-2.996   \u001b[0m | \u001b[0m-5.153   \u001b[0m | \u001b[0m-2.679   \u001b[0m | \u001b[0m-5.04    \u001b[0m | \u001b[0m-3.474   \u001b[0m |\n",
      "| \u001b[0m 118     \u001b[0m | \u001b[0m-152.5   \u001b[0m | \u001b[0m-5.975   \u001b[0m | \u001b[0m-6.197   \u001b[0m | \u001b[0m 0.7805  \u001b[0m | \u001b[0m 0.7795  \u001b[0m | \u001b[0m 1.806   \u001b[0m | \u001b[0m-3.65    \u001b[0m | \u001b[0m-5.638   \u001b[0m | \u001b[0m-5.484   \u001b[0m | \u001b[0m-5.579   \u001b[0m | \u001b[0m-5.309   \u001b[0m | \u001b[0m-5.494   \u001b[0m | \u001b[0m-2.887   \u001b[0m | \u001b[0m-5.842   \u001b[0m | \u001b[0m-5.034   \u001b[0m | \u001b[0m-2.484   \u001b[0m | \u001b[0m-2.106   \u001b[0m | \u001b[0m-3.578   \u001b[0m | \u001b[0m-2.095   \u001b[0m | \u001b[0m-5.826   \u001b[0m | \u001b[0m-2.206   \u001b[0m | \u001b[0m-4.755   \u001b[0m | \u001b[0m-2.804   \u001b[0m | \u001b[0m-2.757   \u001b[0m | \u001b[0m-2.56    \u001b[0m | \u001b[0m-4.166   \u001b[0m | \u001b[0m-2.277   \u001b[0m | \u001b[0m-4.968   \u001b[0m |\n",
      "| \u001b[0m 119     \u001b[0m | \u001b[0m-1.154e+0\u001b[0m | \u001b[0m-7.541   \u001b[0m | \u001b[0m-5.334   \u001b[0m | \u001b[0m 1.971   \u001b[0m | \u001b[0m-1.402   \u001b[0m | \u001b[0m 1.45    \u001b[0m | \u001b[0m-3.738   \u001b[0m | \u001b[0m-4.03    \u001b[0m | \u001b[0m-4.963   \u001b[0m | \u001b[0m-4.693   \u001b[0m | \u001b[0m-5.002   \u001b[0m | \u001b[0m-5.123   \u001b[0m | \u001b[0m-2.801   \u001b[0m | \u001b[0m-3.99    \u001b[0m | \u001b[0m-5.667   \u001b[0m | \u001b[0m-2.892   \u001b[0m | \u001b[0m-3.865   \u001b[0m | \u001b[0m-3.042   \u001b[0m | \u001b[0m-3.938   \u001b[0m | \u001b[0m-4.4     \u001b[0m | \u001b[0m-2.055   \u001b[0m | \u001b[0m-5.887   \u001b[0m | \u001b[0m-2.269   \u001b[0m | \u001b[0m-2.277   \u001b[0m | \u001b[0m-4.436   \u001b[0m | \u001b[0m-5.142   \u001b[0m | \u001b[0m-3.523   \u001b[0m | \u001b[0m-5.288   \u001b[0m |\n",
      "| \u001b[0m 120     \u001b[0m | \u001b[0m-1.842e+0\u001b[0m | \u001b[0m-6.622   \u001b[0m | \u001b[0m-2.778   \u001b[0m | \u001b[0m 0.5816  \u001b[0m | \u001b[0m 1.248   \u001b[0m | \u001b[0m 1.806   \u001b[0m | \u001b[0m-3.858   \u001b[0m | \u001b[0m-2.549   \u001b[0m | \u001b[0m-4.59    \u001b[0m | \u001b[0m-2.008   \u001b[0m | \u001b[0m-4.265   \u001b[0m | \u001b[0m-4.821   \u001b[0m | \u001b[0m-5.834   \u001b[0m | \u001b[0m-2.041   \u001b[0m | \u001b[0m-4.14    \u001b[0m | \u001b[0m-3.062   \u001b[0m | \u001b[0m-3.437   \u001b[0m | \u001b[0m-3.108   \u001b[0m | \u001b[0m-5.796   \u001b[0m | \u001b[0m-2.32    \u001b[0m | \u001b[0m-2.293   \u001b[0m | \u001b[0m-3.792   \u001b[0m | \u001b[0m-2.144   \u001b[0m | \u001b[0m-4.876   \u001b[0m | \u001b[0m-3.591   \u001b[0m | \u001b[0m-4.414   \u001b[0m | \u001b[0m-3.488   \u001b[0m | \u001b[0m-4.797   \u001b[0m |\n",
      "| \u001b[0m 121     \u001b[0m | \u001b[0m-67.02   \u001b[0m | \u001b[0m-1.0     \u001b[0m | \u001b[0m-1.0     \u001b[0m | \u001b[0m 1.532   \u001b[0m | \u001b[0m 0.02051 \u001b[0m | \u001b[0m 1.426   \u001b[0m | \u001b[0m-3.969   \u001b[0m | \u001b[0m-4.721   \u001b[0m | \u001b[0m-2.478   \u001b[0m | \u001b[0m-3.646   \u001b[0m | \u001b[0m-4.423   \u001b[0m | \u001b[0m-4.413   \u001b[0m | \u001b[0m-5.422   \u001b[0m | \u001b[0m-3.965   \u001b[0m | \u001b[0m-4.503   \u001b[0m | \u001b[0m-3.884   \u001b[0m | \u001b[0m-4.095   \u001b[0m | \u001b[0m-4.685   \u001b[0m | \u001b[0m-5.466   \u001b[0m | \u001b[0m-4.289   \u001b[0m | \u001b[0m-4.004   \u001b[0m | \u001b[0m-3.67    \u001b[0m | \u001b[0m-4.081   \u001b[0m | \u001b[0m-3.541   \u001b[0m | \u001b[0m-4.33    \u001b[0m | \u001b[0m-3.122   \u001b[0m | \u001b[0m-2.949   \u001b[0m | \u001b[0m-4.72    \u001b[0m |\n",
      "| \u001b[0m 122     \u001b[0m | \u001b[0m-66.47   \u001b[0m | \u001b[0m-1.0     \u001b[0m | \u001b[0m-1.0     \u001b[0m | \u001b[0m 1.303   \u001b[0m | \u001b[0m 0.09282 \u001b[0m | \u001b[0m 1.344   \u001b[0m | \u001b[0m-3.516   \u001b[0m | \u001b[0m-5.434   \u001b[0m | \u001b[0m-2.463   \u001b[0m | \u001b[0m-5.348   \u001b[0m | \u001b[0m-4.294   \u001b[0m | \u001b[0m-3.796   \u001b[0m | \u001b[0m-4.266   \u001b[0m | \u001b[0m-3.731   \u001b[0m | \u001b[0m-3.706   \u001b[0m | \u001b[0m-2.929   \u001b[0m | \u001b[0m-3.624   \u001b[0m | \u001b[0m-4.179   \u001b[0m | \u001b[0m-4.169   \u001b[0m | \u001b[0m-3.905   \u001b[0m | \u001b[0m-3.1     \u001b[0m | \u001b[0m-4.881   \u001b[0m | \u001b[0m-3.851   \u001b[0m | \u001b[0m-3.313   \u001b[0m | \u001b[0m-3.519   \u001b[0m | \u001b[0m-2.658   \u001b[0m | \u001b[0m-5.577   \u001b[0m | \u001b[0m-2.662   \u001b[0m |\n",
      "| \u001b[0m 123     \u001b[0m | \u001b[0m-54.41   \u001b[0m | \u001b[0m-1.0     \u001b[0m | \u001b[0m-1.0     \u001b[0m | \u001b[0m 1.867   \u001b[0m | \u001b[0m-0.5983  \u001b[0m | \u001b[0m 1.01    \u001b[0m | \u001b[0m-3.447   \u001b[0m | \u001b[0m-5.83    \u001b[0m | \u001b[0m-4.71    \u001b[0m | \u001b[0m-4.865   \u001b[0m | \u001b[0m-4.39    \u001b[0m | \u001b[0m-4.071   \u001b[0m | \u001b[0m-4.178   \u001b[0m | \u001b[0m-3.442   \u001b[0m | \u001b[0m-3.648   \u001b[0m | \u001b[0m-3.236   \u001b[0m | \u001b[0m-3.958   \u001b[0m | \u001b[0m-5.217   \u001b[0m | \u001b[0m-4.326   \u001b[0m | \u001b[0m-5.783   \u001b[0m | \u001b[0m-3.196   \u001b[0m | \u001b[0m-4.708   \u001b[0m | \u001b[0m-3.264   \u001b[0m | \u001b[0m-2.407   \u001b[0m | \u001b[0m-5.575   \u001b[0m | \u001b[0m-2.012   \u001b[0m | \u001b[0m-2.853   \u001b[0m | \u001b[0m-2.711   \u001b[0m |\n"
     ]
    },
    {
     "name": "stdout",
     "output_type": "stream",
     "text": [
      "| \u001b[0m 124     \u001b[0m | \u001b[0m-157.4   \u001b[0m | \u001b[0m-1.0     \u001b[0m | \u001b[0m-1.0     \u001b[0m | \u001b[0m 0.123   \u001b[0m | \u001b[0m-0.08016 \u001b[0m | \u001b[0m 1.178   \u001b[0m | \u001b[0m-3.398   \u001b[0m | \u001b[0m-4.859   \u001b[0m | \u001b[0m-4.264   \u001b[0m | \u001b[0m-4.52    \u001b[0m | \u001b[0m-4.029   \u001b[0m | \u001b[0m-5.895   \u001b[0m | \u001b[0m-4.772   \u001b[0m | \u001b[0m-4.756   \u001b[0m | \u001b[0m-4.022   \u001b[0m | \u001b[0m-3.354   \u001b[0m | \u001b[0m-3.603   \u001b[0m | \u001b[0m-3.128   \u001b[0m | \u001b[0m-5.021   \u001b[0m | \u001b[0m-4.717   \u001b[0m | \u001b[0m-3.319   \u001b[0m | \u001b[0m-3.678   \u001b[0m | \u001b[0m-5.276   \u001b[0m | \u001b[0m-3.445   \u001b[0m | \u001b[0m-4.287   \u001b[0m | \u001b[0m-3.37    \u001b[0m | \u001b[0m-2.619   \u001b[0m | \u001b[0m-3.367   \u001b[0m |\n",
      "| \u001b[0m 125     \u001b[0m | \u001b[0m-115.4   \u001b[0m | \u001b[0m-1.0     \u001b[0m | \u001b[0m-1.0     \u001b[0m | \u001b[0m 0.7967  \u001b[0m | \u001b[0m-0.8113  \u001b[0m | \u001b[0m 1.074   \u001b[0m | \u001b[0m-2.448   \u001b[0m | \u001b[0m-3.917   \u001b[0m | \u001b[0m-4.433   \u001b[0m | \u001b[0m-4.8     \u001b[0m | \u001b[0m-3.491   \u001b[0m | \u001b[0m-4.404   \u001b[0m | \u001b[0m-4.916   \u001b[0m | \u001b[0m-3.106   \u001b[0m | \u001b[0m-3.879   \u001b[0m | \u001b[0m-2.041   \u001b[0m | \u001b[0m-3.641   \u001b[0m | \u001b[0m-4.245   \u001b[0m | \u001b[0m-5.948   \u001b[0m | \u001b[0m-4.078   \u001b[0m | \u001b[0m-2.185   \u001b[0m | \u001b[0m-4.133   \u001b[0m | \u001b[0m-4.609   \u001b[0m | \u001b[0m-3.18    \u001b[0m | \u001b[0m-3.907   \u001b[0m | \u001b[0m-3.132   \u001b[0m | \u001b[0m-4.223   \u001b[0m | \u001b[0m-4.787   \u001b[0m |\n",
      "| \u001b[0m 126     \u001b[0m | \u001b[0m-65.84   \u001b[0m | \u001b[0m-1.0     \u001b[0m | \u001b[0m-1.0     \u001b[0m | \u001b[0m 1.823   \u001b[0m | \u001b[0m-0.3604  \u001b[0m | \u001b[0m 0.5656  \u001b[0m | \u001b[0m-3.8     \u001b[0m | \u001b[0m-5.39    \u001b[0m | \u001b[0m-4.328   \u001b[0m | \u001b[0m-4.492   \u001b[0m | \u001b[0m-5.156   \u001b[0m | \u001b[0m-4.659   \u001b[0m | \u001b[0m-3.6     \u001b[0m | \u001b[0m-2.738   \u001b[0m | \u001b[0m-2.903   \u001b[0m | \u001b[0m-4.208   \u001b[0m | \u001b[0m-5.732   \u001b[0m | \u001b[0m-5.271   \u001b[0m | \u001b[0m-3.203   \u001b[0m | \u001b[0m-4.872   \u001b[0m | \u001b[0m-3.384   \u001b[0m | \u001b[0m-4.323   \u001b[0m | \u001b[0m-4.156   \u001b[0m | \u001b[0m-2.375   \u001b[0m | \u001b[0m-4.906   \u001b[0m | \u001b[0m-2.857   \u001b[0m | \u001b[0m-3.029   \u001b[0m | \u001b[0m-4.246   \u001b[0m |\n",
      "| \u001b[0m 127     \u001b[0m | \u001b[0m-79.03   \u001b[0m | \u001b[0m-1.0     \u001b[0m | \u001b[0m-1.0     \u001b[0m | \u001b[0m 1.498   \u001b[0m | \u001b[0m-0.7155  \u001b[0m | \u001b[0m 1.174   \u001b[0m | \u001b[0m-2.971   \u001b[0m | \u001b[0m-5.534   \u001b[0m | \u001b[0m-2.67    \u001b[0m | \u001b[0m-3.524   \u001b[0m | \u001b[0m-3.691   \u001b[0m | \u001b[0m-4.397   \u001b[0m | \u001b[0m-4.488   \u001b[0m | \u001b[0m-2.472   \u001b[0m | \u001b[0m-5.308   \u001b[0m | \u001b[0m-4.684   \u001b[0m | \u001b[0m-4.84    \u001b[0m | \u001b[0m-4.555   \u001b[0m | \u001b[0m-3.419   \u001b[0m | \u001b[0m-3.853   \u001b[0m | \u001b[0m-4.813   \u001b[0m | \u001b[0m-4.639   \u001b[0m | \u001b[0m-4.474   \u001b[0m | \u001b[0m-3.916   \u001b[0m | \u001b[0m-4.351   \u001b[0m | \u001b[0m-2.276   \u001b[0m | \u001b[0m-4.096   \u001b[0m | \u001b[0m-2.763   \u001b[0m |\n",
      "| \u001b[0m 128     \u001b[0m | \u001b[0m-82.24   \u001b[0m | \u001b[0m-1.0     \u001b[0m | \u001b[0m-1.0     \u001b[0m | \u001b[0m 1.228   \u001b[0m | \u001b[0m-0.5339  \u001b[0m | \u001b[0m 0.563   \u001b[0m | \u001b[0m-4.516   \u001b[0m | \u001b[0m-4.828   \u001b[0m | \u001b[0m-3.922   \u001b[0m | \u001b[0m-5.059   \u001b[0m | \u001b[0m-3.068   \u001b[0m | \u001b[0m-4.653   \u001b[0m | \u001b[0m-2.637   \u001b[0m | \u001b[0m-3.549   \u001b[0m | \u001b[0m-3.553   \u001b[0m | \u001b[0m-4.526   \u001b[0m | \u001b[0m-3.668   \u001b[0m | \u001b[0m-5.038   \u001b[0m | \u001b[0m-3.213   \u001b[0m | \u001b[0m-4.606   \u001b[0m | \u001b[0m-2.549   \u001b[0m | \u001b[0m-3.968   \u001b[0m | \u001b[0m-4.195   \u001b[0m | \u001b[0m-4.01    \u001b[0m | \u001b[0m-4.371   \u001b[0m | \u001b[0m-3.357   \u001b[0m | \u001b[0m-5.08    \u001b[0m | \u001b[0m-2.657   \u001b[0m |\n",
      "| \u001b[0m 129     \u001b[0m | \u001b[0m-295.4   \u001b[0m | \u001b[0m-1.0     \u001b[0m | \u001b[0m-1.0     \u001b[0m | \u001b[0m 0.1657  \u001b[0m | \u001b[0m-1.391   \u001b[0m | \u001b[0m 1.212   \u001b[0m | \u001b[0m-3.563   \u001b[0m | \u001b[0m-5.724   \u001b[0m | \u001b[0m-4.838   \u001b[0m | \u001b[0m-3.87    \u001b[0m | \u001b[0m-5.015   \u001b[0m | \u001b[0m-4.433   \u001b[0m | \u001b[0m-3.569   \u001b[0m | \u001b[0m-3.18    \u001b[0m | \u001b[0m-5.209   \u001b[0m | \u001b[0m-2.711   \u001b[0m | \u001b[0m-4.337   \u001b[0m | \u001b[0m-3.033   \u001b[0m | \u001b[0m-4.913   \u001b[0m | \u001b[0m-4.287   \u001b[0m | \u001b[0m-3.249   \u001b[0m | \u001b[0m-3.381   \u001b[0m | \u001b[0m-5.262   \u001b[0m | \u001b[0m-3.47    \u001b[0m | \u001b[0m-4.612   \u001b[0m | \u001b[0m-4.494   \u001b[0m | \u001b[0m-5.026   \u001b[0m | \u001b[0m-2.666   \u001b[0m |\n",
      "| \u001b[0m 130     \u001b[0m | \u001b[0m-173.7   \u001b[0m | \u001b[0m-1.0     \u001b[0m | \u001b[0m-1.0     \u001b[0m | \u001b[0m 0.9966  \u001b[0m | \u001b[0m-1.291   \u001b[0m | \u001b[0m 1.779   \u001b[0m | \u001b[0m-2.881   \u001b[0m | \u001b[0m-5.37    \u001b[0m | \u001b[0m-2.978   \u001b[0m | \u001b[0m-3.824   \u001b[0m | \u001b[0m-5.138   \u001b[0m | \u001b[0m-4.387   \u001b[0m | \u001b[0m-3.919   \u001b[0m | \u001b[0m-4.546   \u001b[0m | \u001b[0m-3.649   \u001b[0m | \u001b[0m-4.123   \u001b[0m | \u001b[0m-3.518   \u001b[0m | \u001b[0m-4.982   \u001b[0m | \u001b[0m-5.599   \u001b[0m | \u001b[0m-5.292   \u001b[0m | \u001b[0m-3.717   \u001b[0m | \u001b[0m-2.999   \u001b[0m | \u001b[0m-5.046   \u001b[0m | \u001b[0m-2.894   \u001b[0m | \u001b[0m-4.07    \u001b[0m | \u001b[0m-4.354   \u001b[0m | \u001b[0m-3.505   \u001b[0m | \u001b[0m-3.518   \u001b[0m |\n",
      "| \u001b[0m 131     \u001b[0m | \u001b[0m-72.64   \u001b[0m | \u001b[0m-1.0     \u001b[0m | \u001b[0m-1.0     \u001b[0m | \u001b[0m 1.51    \u001b[0m | \u001b[0m-0.1563  \u001b[0m | \u001b[0m 1.086   \u001b[0m | \u001b[0m-4.085   \u001b[0m | \u001b[0m-5.139   \u001b[0m | \u001b[0m-4.751   \u001b[0m | \u001b[0m-3.002   \u001b[0m | \u001b[0m-5.777   \u001b[0m | \u001b[0m-4.427   \u001b[0m | \u001b[0m-4.434   \u001b[0m | \u001b[0m-4.178   \u001b[0m | \u001b[0m-2.621   \u001b[0m | \u001b[0m-4.181   \u001b[0m | \u001b[0m-4.649   \u001b[0m | \u001b[0m-4.131   \u001b[0m | \u001b[0m-4.564   \u001b[0m | \u001b[0m-3.361   \u001b[0m | \u001b[0m-2.883   \u001b[0m | \u001b[0m-3.631   \u001b[0m | \u001b[0m-3.293   \u001b[0m | \u001b[0m-4.442   \u001b[0m | \u001b[0m-3.822   \u001b[0m | \u001b[0m-3.125   \u001b[0m | \u001b[0m-3.061   \u001b[0m | \u001b[0m-2.381   \u001b[0m |\n",
      "| \u001b[0m 132     \u001b[0m | \u001b[0m-127.4   \u001b[0m | \u001b[0m-1.0     \u001b[0m | \u001b[0m-1.0     \u001b[0m | \u001b[0m 0.1967  \u001b[0m | \u001b[0m-0.9995  \u001b[0m | \u001b[0m 1.152   \u001b[0m | \u001b[0m-3.583   \u001b[0m | \u001b[0m-5.274   \u001b[0m | \u001b[0m-5.274   \u001b[0m | \u001b[0m-4.3     \u001b[0m | \u001b[0m-4.61    \u001b[0m | \u001b[0m-4.275   \u001b[0m | \u001b[0m-5.505   \u001b[0m | \u001b[0m-3.251   \u001b[0m | \u001b[0m-3.57    \u001b[0m | \u001b[0m-4.588   \u001b[0m | \u001b[0m-4.504   \u001b[0m | \u001b[0m-4.898   \u001b[0m | \u001b[0m-3.949   \u001b[0m | \u001b[0m-3.491   \u001b[0m | \u001b[0m-3.67    \u001b[0m | \u001b[0m-3.219   \u001b[0m | \u001b[0m-4.028   \u001b[0m | \u001b[0m-2.948   \u001b[0m | \u001b[0m-3.597   \u001b[0m | \u001b[0m-3.568   \u001b[0m | \u001b[0m-4.186   \u001b[0m | \u001b[0m-2.178   \u001b[0m |\n",
      "| \u001b[0m 133     \u001b[0m | \u001b[0m-76.49   \u001b[0m | \u001b[0m-1.0     \u001b[0m | \u001b[0m-1.0     \u001b[0m | \u001b[0m 1.109   \u001b[0m | \u001b[0m-0.4158  \u001b[0m | \u001b[0m 0.6047  \u001b[0m | \u001b[0m-4.025   \u001b[0m | \u001b[0m-5.87    \u001b[0m | \u001b[0m-2.168   \u001b[0m | \u001b[0m-3.856   \u001b[0m | \u001b[0m-4.752   \u001b[0m | \u001b[0m-3.43    \u001b[0m | \u001b[0m-4.114   \u001b[0m | \u001b[0m-2.312   \u001b[0m | \u001b[0m-3.716   \u001b[0m | \u001b[0m-4.648   \u001b[0m | \u001b[0m-3.677   \u001b[0m | \u001b[0m-4.266   \u001b[0m | \u001b[0m-5.208   \u001b[0m | \u001b[0m-2.887   \u001b[0m | \u001b[0m-3.764   \u001b[0m | \u001b[0m-3.899   \u001b[0m | \u001b[0m-4.411   \u001b[0m | \u001b[0m-3.046   \u001b[0m | \u001b[0m-4.235   \u001b[0m | \u001b[0m-3.352   \u001b[0m | \u001b[0m-2.268   \u001b[0m | \u001b[0m-2.775   \u001b[0m |\n",
      "| \u001b[0m 134     \u001b[0m | \u001b[0m-93.24   \u001b[0m | \u001b[0m-1.0     \u001b[0m | \u001b[0m-1.0     \u001b[0m | \u001b[0m 0.8711  \u001b[0m | \u001b[0m-0.02683 \u001b[0m | \u001b[0m 0.2221  \u001b[0m | \u001b[0m-3.437   \u001b[0m | \u001b[0m-4.935   \u001b[0m | \u001b[0m-2.821   \u001b[0m | \u001b[0m-5.524   \u001b[0m | \u001b[0m-3.505   \u001b[0m | \u001b[0m-2.716   \u001b[0m | \u001b[0m-3.4     \u001b[0m | \u001b[0m-2.669   \u001b[0m | \u001b[0m-4.665   \u001b[0m | \u001b[0m-4.842   \u001b[0m | \u001b[0m-4.145   \u001b[0m | \u001b[0m-4.609   \u001b[0m | \u001b[0m-3.893   \u001b[0m | \u001b[0m-4.367   \u001b[0m | \u001b[0m-3.319   \u001b[0m | \u001b[0m-3.427   \u001b[0m | \u001b[0m-4.99    \u001b[0m | \u001b[0m-4.237   \u001b[0m | \u001b[0m-3.916   \u001b[0m | \u001b[0m-4.026   \u001b[0m | \u001b[0m-3.619   \u001b[0m | \u001b[0m-3.171   \u001b[0m |\n",
      "| \u001b[0m 135     \u001b[0m | \u001b[0m-81.51   \u001b[0m | \u001b[0m-1.0     \u001b[0m | \u001b[0m-1.0     \u001b[0m | \u001b[0m 1.793   \u001b[0m | \u001b[0m-0.1678  \u001b[0m | \u001b[0m 0.2274  \u001b[0m | \u001b[0m-3.874   \u001b[0m | \u001b[0m-4.861   \u001b[0m | \u001b[0m-2.883   \u001b[0m | \u001b[0m-5.228   \u001b[0m | \u001b[0m-4.613   \u001b[0m | \u001b[0m-5.366   \u001b[0m | \u001b[0m-4.318   \u001b[0m | \u001b[0m-3.085   \u001b[0m | \u001b[0m-5.743   \u001b[0m | \u001b[0m-3.041   \u001b[0m | \u001b[0m-4.629   \u001b[0m | \u001b[0m-3.472   \u001b[0m | \u001b[0m-4.139   \u001b[0m | \u001b[0m-2.848   \u001b[0m | \u001b[0m-4.279   \u001b[0m | \u001b[0m-4.114   \u001b[0m | \u001b[0m-4.62    \u001b[0m | \u001b[0m-3.76    \u001b[0m | \u001b[0m-4.3     \u001b[0m | \u001b[0m-2.023   \u001b[0m | \u001b[0m-3.946   \u001b[0m | \u001b[0m-3.537   \u001b[0m |\n",
      "| \u001b[0m 136     \u001b[0m | \u001b[0m-50.13   \u001b[0m | \u001b[0m-1.0     \u001b[0m | \u001b[0m-1.0     \u001b[0m | \u001b[0m 1.544   \u001b[0m | \u001b[0m 0.3587  \u001b[0m | \u001b[0m 0.4637  \u001b[0m | \u001b[0m-4.672   \u001b[0m | \u001b[0m-4.347   \u001b[0m | \u001b[0m-4.161   \u001b[0m | \u001b[0m-4.21    \u001b[0m | \u001b[0m-5.952   \u001b[0m | \u001b[0m-5.052   \u001b[0m | \u001b[0m-4.007   \u001b[0m | \u001b[0m-4.134   \u001b[0m | \u001b[0m-3.052   \u001b[0m | \u001b[0m-4.999   \u001b[0m | \u001b[0m-4.408   \u001b[0m | \u001b[0m-2.617   \u001b[0m | \u001b[0m-4.735   \u001b[0m | \u001b[0m-4.432   \u001b[0m | \u001b[0m-3.35    \u001b[0m | \u001b[0m-4.199   \u001b[0m | \u001b[0m-3.727   \u001b[0m | \u001b[0m-3.817   \u001b[0m | \u001b[0m-4.535   \u001b[0m | \u001b[0m-2.83    \u001b[0m | \u001b[0m-3.225   \u001b[0m | \u001b[0m-3.369   \u001b[0m |\n",
      "| \u001b[0m 137     \u001b[0m | \u001b[0m-60.49   \u001b[0m | \u001b[0m-1.0     \u001b[0m | \u001b[0m-1.0     \u001b[0m | \u001b[0m 1.448   \u001b[0m | \u001b[0m 0.8397  \u001b[0m | \u001b[0m 1.358   \u001b[0m | \u001b[0m-2.345   \u001b[0m | \u001b[0m-5.166   \u001b[0m | \u001b[0m-4.454   \u001b[0m | \u001b[0m-3.988   \u001b[0m | \u001b[0m-4.958   \u001b[0m | \u001b[0m-5.044   \u001b[0m | \u001b[0m-5.302   \u001b[0m | \u001b[0m-3.84    \u001b[0m | \u001b[0m-4.138   \u001b[0m | \u001b[0m-5.211   \u001b[0m | \u001b[0m-4.403   \u001b[0m | \u001b[0m-4.822   \u001b[0m | \u001b[0m-4.37    \u001b[0m | \u001b[0m-3.361   \u001b[0m | \u001b[0m-3.82    \u001b[0m | \u001b[0m-4.161   \u001b[0m | \u001b[0m-5.177   \u001b[0m | \u001b[0m-3.807   \u001b[0m | \u001b[0m-4.049   \u001b[0m | \u001b[0m-2.233   \u001b[0m | \u001b[0m-4.261   \u001b[0m | \u001b[0m-3.325   \u001b[0m |\n",
      "| \u001b[0m 138     \u001b[0m | \u001b[0m-92.44   \u001b[0m | \u001b[0m-1.0     \u001b[0m | \u001b[0m-1.0     \u001b[0m | \u001b[0m 1.241   \u001b[0m | \u001b[0m 0.03159 \u001b[0m | \u001b[0m 0.4698  \u001b[0m | \u001b[0m-3.845   \u001b[0m | \u001b[0m-5.687   \u001b[0m | \u001b[0m-4.229   \u001b[0m | \u001b[0m-4.865   \u001b[0m | \u001b[0m-3.899   \u001b[0m | \u001b[0m-4.253   \u001b[0m | \u001b[0m-4.499   \u001b[0m | \u001b[0m-4.925   \u001b[0m | \u001b[0m-3.739   \u001b[0m | \u001b[0m-3.993   \u001b[0m | \u001b[0m-4.946   \u001b[0m | \u001b[0m-3.948   \u001b[0m | \u001b[0m-5.624   \u001b[0m | \u001b[0m-3.129   \u001b[0m | \u001b[0m-2.911   \u001b[0m | \u001b[0m-3.717   \u001b[0m | \u001b[0m-3.737   \u001b[0m | \u001b[0m-3.935   \u001b[0m | \u001b[0m-3.579   \u001b[0m | \u001b[0m-4.337   \u001b[0m | \u001b[0m-2.889   \u001b[0m | \u001b[0m-3.508   \u001b[0m |\n"
     ]
    },
    {
     "name": "stdout",
     "output_type": "stream",
     "text": [
      "| \u001b[0m 139     \u001b[0m | \u001b[0m-73.66   \u001b[0m | \u001b[0m-1.0     \u001b[0m | \u001b[0m-1.0     \u001b[0m | \u001b[0m 0.7449  \u001b[0m | \u001b[0m 0.3279  \u001b[0m | \u001b[0m 0.6237  \u001b[0m | \u001b[0m-4.403   \u001b[0m | \u001b[0m-4.246   \u001b[0m | \u001b[0m-3.863   \u001b[0m | \u001b[0m-2.709   \u001b[0m | \u001b[0m-4.3     \u001b[0m | \u001b[0m-4.893   \u001b[0m | \u001b[0m-3.562   \u001b[0m | \u001b[0m-3.238   \u001b[0m | \u001b[0m-3.803   \u001b[0m | \u001b[0m-5.018   \u001b[0m | \u001b[0m-4.085   \u001b[0m | \u001b[0m-4.389   \u001b[0m | \u001b[0m-2.496   \u001b[0m | \u001b[0m-4.39    \u001b[0m | \u001b[0m-3.522   \u001b[0m | \u001b[0m-3.632   \u001b[0m | \u001b[0m-4.045   \u001b[0m | \u001b[0m-2.856   \u001b[0m | \u001b[0m-3.739   \u001b[0m | \u001b[0m-3.914   \u001b[0m | \u001b[0m-4.639   \u001b[0m | \u001b[0m-3.493   \u001b[0m |\n",
      "| \u001b[0m 140     \u001b[0m | \u001b[0m-74.14   \u001b[0m | \u001b[0m-1.0     \u001b[0m | \u001b[0m-1.0     \u001b[0m | \u001b[0m 1.538   \u001b[0m | \u001b[0m-0.4     \u001b[0m | \u001b[0m 0.3249  \u001b[0m | \u001b[0m-2.805   \u001b[0m | \u001b[0m-4.403   \u001b[0m | \u001b[0m-3.604   \u001b[0m | \u001b[0m-5.611   \u001b[0m | \u001b[0m-4.113   \u001b[0m | \u001b[0m-5.177   \u001b[0m | \u001b[0m-5.355   \u001b[0m | \u001b[0m-2.786   \u001b[0m | \u001b[0m-3.723   \u001b[0m | \u001b[0m-4.309   \u001b[0m | \u001b[0m-3.032   \u001b[0m | \u001b[0m-3.782   \u001b[0m | \u001b[0m-5.115   \u001b[0m | \u001b[0m-3.75    \u001b[0m | \u001b[0m-3.131   \u001b[0m | \u001b[0m-2.934   \u001b[0m | \u001b[0m-5.483   \u001b[0m | \u001b[0m-2.775   \u001b[0m | \u001b[0m-4.519   \u001b[0m | \u001b[0m-3.014   \u001b[0m | \u001b[0m-3.585   \u001b[0m | \u001b[0m-2.623   \u001b[0m |\n",
      "| \u001b[0m 141     \u001b[0m | \u001b[0m-160.5   \u001b[0m | \u001b[0m-1.0     \u001b[0m | \u001b[0m-1.0     \u001b[0m | \u001b[0m 0.5421  \u001b[0m | \u001b[0m-0.7976  \u001b[0m | \u001b[0m 0.5993  \u001b[0m | \u001b[0m-3.299   \u001b[0m | \u001b[0m-5.255   \u001b[0m | \u001b[0m-3.807   \u001b[0m | \u001b[0m-5.193   \u001b[0m | \u001b[0m-4.766   \u001b[0m | \u001b[0m-3.644   \u001b[0m | \u001b[0m-3.867   \u001b[0m | \u001b[0m-2.206   \u001b[0m | \u001b[0m-4.058   \u001b[0m | \u001b[0m-4.861   \u001b[0m | \u001b[0m-3.417   \u001b[0m | \u001b[0m-3.873   \u001b[0m | \u001b[0m-4.295   \u001b[0m | \u001b[0m-2.23    \u001b[0m | \u001b[0m-3.642   \u001b[0m | \u001b[0m-3.095   \u001b[0m | \u001b[0m-5.227   \u001b[0m | \u001b[0m-4.245   \u001b[0m | \u001b[0m-5.507   \u001b[0m | \u001b[0m-3.0     \u001b[0m | \u001b[0m-3.32    \u001b[0m | \u001b[0m-3.192   \u001b[0m |\n",
      "| \u001b[0m 142     \u001b[0m | \u001b[0m-102.1   \u001b[0m | \u001b[0m-1.0     \u001b[0m | \u001b[0m-1.0     \u001b[0m | \u001b[0m 1.323   \u001b[0m | \u001b[0m-1.241   \u001b[0m | \u001b[0m 1.888   \u001b[0m | \u001b[0m-3.185   \u001b[0m | \u001b[0m-4.354   \u001b[0m | \u001b[0m-3.246   \u001b[0m | \u001b[0m-3.201   \u001b[0m | \u001b[0m-3.879   \u001b[0m | \u001b[0m-4.96    \u001b[0m | \u001b[0m-4.272   \u001b[0m | \u001b[0m-4.621   \u001b[0m | \u001b[0m-4.986   \u001b[0m | \u001b[0m-3.641   \u001b[0m | \u001b[0m-2.955   \u001b[0m | \u001b[0m-2.805   \u001b[0m | \u001b[0m-4.618   \u001b[0m | \u001b[0m-3.041   \u001b[0m | \u001b[0m-3.875   \u001b[0m | \u001b[0m-2.781   \u001b[0m | \u001b[0m-4.074   \u001b[0m | \u001b[0m-3.176   \u001b[0m | \u001b[0m-4.343   \u001b[0m | \u001b[0m-3.892   \u001b[0m | \u001b[0m-2.929   \u001b[0m | \u001b[0m-3.039   \u001b[0m |\n",
      "| \u001b[0m 143     \u001b[0m | \u001b[0m-426.1   \u001b[0m | \u001b[0m-1.0     \u001b[0m | \u001b[0m-1.0     \u001b[0m | \u001b[0m 0.1475  \u001b[0m | \u001b[0m-0.9545  \u001b[0m | \u001b[0m 1.011   \u001b[0m | \u001b[0m-3.842   \u001b[0m | \u001b[0m-4.5     \u001b[0m | \u001b[0m-5.079   \u001b[0m | \u001b[0m-5.539   \u001b[0m | \u001b[0m-5.436   \u001b[0m | \u001b[0m-4.412   \u001b[0m | \u001b[0m-4.935   \u001b[0m | \u001b[0m-4.377   \u001b[0m | \u001b[0m-4.197   \u001b[0m | \u001b[0m-4.526   \u001b[0m | \u001b[0m-2.618   \u001b[0m | \u001b[0m-3.921   \u001b[0m | \u001b[0m-4.065   \u001b[0m | \u001b[0m-3.596   \u001b[0m | \u001b[0m-3.652   \u001b[0m | \u001b[0m-4.555   \u001b[0m | \u001b[0m-3.393   \u001b[0m | \u001b[0m-3.577   \u001b[0m | \u001b[0m-4.064   \u001b[0m | \u001b[0m-2.39    \u001b[0m | \u001b[0m-3.096   \u001b[0m | \u001b[0m-2.704   \u001b[0m |\n",
      "| \u001b[0m 144     \u001b[0m | \u001b[0m-96.96   \u001b[0m | \u001b[0m-1.0     \u001b[0m | \u001b[0m-1.0     \u001b[0m | \u001b[0m 1.164   \u001b[0m | \u001b[0m 0.198   \u001b[0m | \u001b[0m 0.6216  \u001b[0m | \u001b[0m-3.544   \u001b[0m | \u001b[0m-3.844   \u001b[0m | \u001b[0m-4.207   \u001b[0m | \u001b[0m-5.076   \u001b[0m | \u001b[0m-4.969   \u001b[0m | \u001b[0m-4.356   \u001b[0m | \u001b[0m-4.865   \u001b[0m | \u001b[0m-3.091   \u001b[0m | \u001b[0m-5.098   \u001b[0m | \u001b[0m-3.982   \u001b[0m | \u001b[0m-5.749   \u001b[0m | \u001b[0m-3.97    \u001b[0m | \u001b[0m-5.475   \u001b[0m | \u001b[0m-3.657   \u001b[0m | \u001b[0m-4.636   \u001b[0m | \u001b[0m-5.668   \u001b[0m | \u001b[0m-4.449   \u001b[0m | \u001b[0m-3.281   \u001b[0m | \u001b[0m-3.448   \u001b[0m | \u001b[0m-3.39    \u001b[0m | \u001b[0m-2.811   \u001b[0m | \u001b[0m-4.228   \u001b[0m |\n",
      "| \u001b[0m 145     \u001b[0m | \u001b[0m-70.76   \u001b[0m | \u001b[0m-1.0     \u001b[0m | \u001b[0m-1.0     \u001b[0m | \u001b[0m 0.8423  \u001b[0m | \u001b[0m-0.1809  \u001b[0m | \u001b[0m 0.5357  \u001b[0m | \u001b[0m-4.339   \u001b[0m | \u001b[0m-5.779   \u001b[0m | \u001b[0m-2.949   \u001b[0m | \u001b[0m-5.561   \u001b[0m | \u001b[0m-4.468   \u001b[0m | \u001b[0m-5.392   \u001b[0m | \u001b[0m-4.726   \u001b[0m | \u001b[0m-3.383   \u001b[0m | \u001b[0m-3.45    \u001b[0m | \u001b[0m-4.475   \u001b[0m | \u001b[0m-4.347   \u001b[0m | \u001b[0m-4.688   \u001b[0m | \u001b[0m-4.497   \u001b[0m | \u001b[0m-5.031   \u001b[0m | \u001b[0m-4.732   \u001b[0m | \u001b[0m-4.391   \u001b[0m | \u001b[0m-3.477   \u001b[0m | \u001b[0m-3.104   \u001b[0m | \u001b[0m-3.413   \u001b[0m | \u001b[0m-3.346   \u001b[0m | \u001b[0m-4.253   \u001b[0m | \u001b[0m-2.477   \u001b[0m |\n",
      "| \u001b[0m 146     \u001b[0m | \u001b[0m-222.1   \u001b[0m | \u001b[0m-1.0     \u001b[0m | \u001b[0m-1.0     \u001b[0m | \u001b[0m 0.03871 \u001b[0m | \u001b[0m 0.8327  \u001b[0m | \u001b[0m 0.5525  \u001b[0m | \u001b[0m-2.292   \u001b[0m | \u001b[0m-4.091   \u001b[0m | \u001b[0m-2.446   \u001b[0m | \u001b[0m-5.721   \u001b[0m | \u001b[0m-4.572   \u001b[0m | \u001b[0m-3.666   \u001b[0m | \u001b[0m-5.227   \u001b[0m | \u001b[0m-3.31    \u001b[0m | \u001b[0m-3.708   \u001b[0m | \u001b[0m-3.701   \u001b[0m | \u001b[0m-4.747   \u001b[0m | \u001b[0m-4.257   \u001b[0m | \u001b[0m-5.336   \u001b[0m | \u001b[0m-4.332   \u001b[0m | \u001b[0m-2.729   \u001b[0m | \u001b[0m-2.679   \u001b[0m | \u001b[0m-3.299   \u001b[0m | \u001b[0m-2.955   \u001b[0m | \u001b[0m-4.267   \u001b[0m | \u001b[0m-2.784   \u001b[0m | \u001b[0m-3.192   \u001b[0m | \u001b[0m-4.063   \u001b[0m |\n",
      "| \u001b[0m 147     \u001b[0m | \u001b[0m-133.5   \u001b[0m | \u001b[0m-1.0     \u001b[0m | \u001b[0m-1.0     \u001b[0m | \u001b[0m 0.2775  \u001b[0m | \u001b[0m-0.5454  \u001b[0m | \u001b[0m 1.464   \u001b[0m | \u001b[0m-3.294   \u001b[0m | \u001b[0m-5.111   \u001b[0m | \u001b[0m-3.574   \u001b[0m | \u001b[0m-5.206   \u001b[0m | \u001b[0m-4.254   \u001b[0m | \u001b[0m-4.896   \u001b[0m | \u001b[0m-4.731   \u001b[0m | \u001b[0m-2.049   \u001b[0m | \u001b[0m-4.605   \u001b[0m | \u001b[0m-4.375   \u001b[0m | \u001b[0m-5.641   \u001b[0m | \u001b[0m-4.026   \u001b[0m | \u001b[0m-3.72    \u001b[0m | \u001b[0m-4.316   \u001b[0m | \u001b[0m-2.836   \u001b[0m | \u001b[0m-4.218   \u001b[0m | \u001b[0m-4.306   \u001b[0m | \u001b[0m-3.464   \u001b[0m | \u001b[0m-2.653   \u001b[0m | \u001b[0m-3.015   \u001b[0m | \u001b[0m-3.512   \u001b[0m | \u001b[0m-3.872   \u001b[0m |\n",
      "| \u001b[0m 148     \u001b[0m | \u001b[0m-745.7   \u001b[0m | \u001b[0m-1.0     \u001b[0m | \u001b[0m-1.0     \u001b[0m | \u001b[0m 0.2264  \u001b[0m | \u001b[0m-0.8895  \u001b[0m | \u001b[0m 0.9433  \u001b[0m | \u001b[0m-3.061   \u001b[0m | \u001b[0m-5.477   \u001b[0m | \u001b[0m-4.055   \u001b[0m | \u001b[0m-3.244   \u001b[0m | \u001b[0m-5.684   \u001b[0m | \u001b[0m-5.431   \u001b[0m | \u001b[0m-4.612   \u001b[0m | \u001b[0m-3.687   \u001b[0m | \u001b[0m-4.17    \u001b[0m | \u001b[0m-2.858   \u001b[0m | \u001b[0m-4.397   \u001b[0m | \u001b[0m-4.125   \u001b[0m | \u001b[0m-4.134   \u001b[0m | \u001b[0m-3.407   \u001b[0m | \u001b[0m-4.053   \u001b[0m | \u001b[0m-4.024   \u001b[0m | \u001b[0m-4.142   \u001b[0m | \u001b[0m-3.491   \u001b[0m | \u001b[0m-4.724   \u001b[0m | \u001b[0m-3.487   \u001b[0m | \u001b[0m-3.603   \u001b[0m | \u001b[0m-4.623   \u001b[0m |\n",
      "| \u001b[0m 149     \u001b[0m | \u001b[0m-71.74   \u001b[0m | \u001b[0m-1.0     \u001b[0m | \u001b[0m-1.0     \u001b[0m | \u001b[0m 1.2     \u001b[0m | \u001b[0m 0.2762  \u001b[0m | \u001b[0m 1.644   \u001b[0m | \u001b[0m-4.513   \u001b[0m | \u001b[0m-5.876   \u001b[0m | \u001b[0m-3.762   \u001b[0m | \u001b[0m-4.039   \u001b[0m | \u001b[0m-4.651   \u001b[0m | \u001b[0m-4.388   \u001b[0m | \u001b[0m-4.661   \u001b[0m | \u001b[0m-4.681   \u001b[0m | \u001b[0m-3.717   \u001b[0m | \u001b[0m-2.789   \u001b[0m | \u001b[0m-4.075   \u001b[0m | \u001b[0m-3.42    \u001b[0m | \u001b[0m-5.465   \u001b[0m | \u001b[0m-4.502   \u001b[0m | \u001b[0m-3.853   \u001b[0m | \u001b[0m-5.133   \u001b[0m | \u001b[0m-5.134   \u001b[0m | \u001b[0m-3.836   \u001b[0m | \u001b[0m-2.766   \u001b[0m | \u001b[0m-3.215   \u001b[0m | \u001b[0m-3.414   \u001b[0m | \u001b[0m-3.331   \u001b[0m |\n",
      "| \u001b[0m 150     \u001b[0m | \u001b[0m-1.54e+03\u001b[0m | \u001b[0m-1.0     \u001b[0m | \u001b[0m-1.0     \u001b[0m | \u001b[0m 0.5942  \u001b[0m | \u001b[0m-1.187   \u001b[0m | \u001b[0m 0.6337  \u001b[0m | \u001b[0m-3.075   \u001b[0m | \u001b[0m-3.954   \u001b[0m | \u001b[0m-4.559   \u001b[0m | \u001b[0m-5.193   \u001b[0m | \u001b[0m-5.518   \u001b[0m | \u001b[0m-4.359   \u001b[0m | \u001b[0m-4.892   \u001b[0m | \u001b[0m-2.791   \u001b[0m | \u001b[0m-3.957   \u001b[0m | \u001b[0m-4.876   \u001b[0m | \u001b[0m-5.652   \u001b[0m | \u001b[0m-4.153   \u001b[0m | \u001b[0m-4.552   \u001b[0m | \u001b[0m-3.842   \u001b[0m | \u001b[0m-3.748   \u001b[0m | \u001b[0m-3.063   \u001b[0m | \u001b[0m-4.334   \u001b[0m | \u001b[0m-2.594   \u001b[0m | \u001b[0m-4.661   \u001b[0m | \u001b[0m-2.63    \u001b[0m | \u001b[0m-5.327   \u001b[0m | \u001b[0m-3.091   \u001b[0m |\n",
      "| \u001b[0m 151     \u001b[0m | \u001b[0m-99.55   \u001b[0m | \u001b[0m-1.0     \u001b[0m | \u001b[0m-1.0     \u001b[0m | \u001b[0m 0.9715  \u001b[0m | \u001b[0m-0.6675  \u001b[0m | \u001b[0m 0.5694  \u001b[0m | \u001b[0m-2.396   \u001b[0m | \u001b[0m-4.278   \u001b[0m | \u001b[0m-5.184   \u001b[0m | \u001b[0m-5.211   \u001b[0m | \u001b[0m-5.291   \u001b[0m | \u001b[0m-4.017   \u001b[0m | \u001b[0m-4.258   \u001b[0m | \u001b[0m-3.307   \u001b[0m | \u001b[0m-4.01    \u001b[0m | \u001b[0m-3.244   \u001b[0m | \u001b[0m-3.135   \u001b[0m | \u001b[0m-4.28    \u001b[0m | \u001b[0m-4.194   \u001b[0m | \u001b[0m-2.909   \u001b[0m | \u001b[0m-4.304   \u001b[0m | \u001b[0m-3.676   \u001b[0m | \u001b[0m-3.709   \u001b[0m | \u001b[0m-3.526   \u001b[0m | \u001b[0m-4.688   \u001b[0m | \u001b[0m-3.618   \u001b[0m | \u001b[0m-5.119   \u001b[0m | \u001b[0m-3.095   \u001b[0m |\n",
      "| \u001b[0m 152     \u001b[0m | \u001b[0m-71.18   \u001b[0m | \u001b[0m-1.0     \u001b[0m | \u001b[0m-1.0     \u001b[0m | \u001b[0m 1.243   \u001b[0m | \u001b[0m-0.3182  \u001b[0m | \u001b[0m 0.9061  \u001b[0m | \u001b[0m-3.268   \u001b[0m | \u001b[0m-4.74    \u001b[0m | \u001b[0m-4.971   \u001b[0m | \u001b[0m-4.501   \u001b[0m | \u001b[0m-4.276   \u001b[0m | \u001b[0m-3.792   \u001b[0m | \u001b[0m-4.419   \u001b[0m | \u001b[0m-2.174   \u001b[0m | \u001b[0m-4.489   \u001b[0m | \u001b[0m-4.747   \u001b[0m | \u001b[0m-3.675   \u001b[0m | \u001b[0m-4.954   \u001b[0m | \u001b[0m-4.427   \u001b[0m | \u001b[0m-4.452   \u001b[0m | \u001b[0m-3.498   \u001b[0m | \u001b[0m-4.518   \u001b[0m | \u001b[0m-3.214   \u001b[0m | \u001b[0m-3.473   \u001b[0m | \u001b[0m-3.043   \u001b[0m | \u001b[0m-2.352   \u001b[0m | \u001b[0m-2.651   \u001b[0m | \u001b[0m-3.984   \u001b[0m |\n",
      "| \u001b[0m 153     \u001b[0m | \u001b[0m-582.4   \u001b[0m | \u001b[0m-1.0     \u001b[0m | \u001b[0m-1.0     \u001b[0m | \u001b[0m 0.656   \u001b[0m | \u001b[0m-1.419   \u001b[0m | \u001b[0m 1.791   \u001b[0m | \u001b[0m-3.958   \u001b[0m | \u001b[0m-4.743   \u001b[0m | \u001b[0m-4.649   \u001b[0m | \u001b[0m-3.957   \u001b[0m | \u001b[0m-5.068   \u001b[0m | \u001b[0m-4.501   \u001b[0m | \u001b[0m-3.668   \u001b[0m | \u001b[0m-3.395   \u001b[0m | \u001b[0m-3.393   \u001b[0m | \u001b[0m-5.211   \u001b[0m | \u001b[0m-4.169   \u001b[0m | \u001b[0m-2.932   \u001b[0m | \u001b[0m-3.441   \u001b[0m | \u001b[0m-4.103   \u001b[0m | \u001b[0m-4.591   \u001b[0m | \u001b[0m-4.906   \u001b[0m | \u001b[0m-3.136   \u001b[0m | \u001b[0m-3.496   \u001b[0m | \u001b[0m-4.266   \u001b[0m | \u001b[0m-2.265   \u001b[0m | \u001b[0m-4.162   \u001b[0m | \u001b[0m-2.557   \u001b[0m |\n"
     ]
    },
    {
     "name": "stdout",
     "output_type": "stream",
     "text": [
      "| \u001b[0m 154     \u001b[0m | \u001b[0m-130.6   \u001b[0m | \u001b[0m-1.0     \u001b[0m | \u001b[0m-1.0     \u001b[0m | \u001b[0m 0.299   \u001b[0m | \u001b[0m-0.4722  \u001b[0m | \u001b[0m 1.152   \u001b[0m | \u001b[0m-3.418   \u001b[0m | \u001b[0m-4.941   \u001b[0m | \u001b[0m-3.826   \u001b[0m | \u001b[0m-3.118   \u001b[0m | \u001b[0m-4.152   \u001b[0m | \u001b[0m-4.008   \u001b[0m | \u001b[0m-5.151   \u001b[0m | \u001b[0m-4.057   \u001b[0m | \u001b[0m-3.142   \u001b[0m | \u001b[0m-2.939   \u001b[0m | \u001b[0m-4.761   \u001b[0m | \u001b[0m-4.403   \u001b[0m | \u001b[0m-4.546   \u001b[0m | \u001b[0m-2.727   \u001b[0m | \u001b[0m-2.56    \u001b[0m | \u001b[0m-3.326   \u001b[0m | \u001b[0m-3.832   \u001b[0m | \u001b[0m-3.016   \u001b[0m | \u001b[0m-4.203   \u001b[0m | \u001b[0m-3.362   \u001b[0m | \u001b[0m-3.769   \u001b[0m | \u001b[0m-3.859   \u001b[0m |\n",
      "| \u001b[0m 155     \u001b[0m | \u001b[0m-63.2    \u001b[0m | \u001b[0m-1.0     \u001b[0m | \u001b[0m-1.0     \u001b[0m | \u001b[0m 1.111   \u001b[0m | \u001b[0m 0.3617  \u001b[0m | \u001b[0m 1.159   \u001b[0m | \u001b[0m-3.285   \u001b[0m | \u001b[0m-5.065   \u001b[0m | \u001b[0m-3.101   \u001b[0m | \u001b[0m-3.487   \u001b[0m | \u001b[0m-4.182   \u001b[0m | \u001b[0m-3.355   \u001b[0m | \u001b[0m-2.682   \u001b[0m | \u001b[0m-3.477   \u001b[0m | \u001b[0m-3.832   \u001b[0m | \u001b[0m-4.182   \u001b[0m | \u001b[0m-2.37    \u001b[0m | \u001b[0m-3.533   \u001b[0m | \u001b[0m-4.298   \u001b[0m | \u001b[0m-4.849   \u001b[0m | \u001b[0m-4.17    \u001b[0m | \u001b[0m-4.373   \u001b[0m | \u001b[0m-4.072   \u001b[0m | \u001b[0m-4.344   \u001b[0m | \u001b[0m-4.626   \u001b[0m | \u001b[0m-2.09    \u001b[0m | \u001b[0m-3.893   \u001b[0m | \u001b[0m-3.193   \u001b[0m |\n",
      "| \u001b[0m 156     \u001b[0m | \u001b[0m-59.81   \u001b[0m | \u001b[0m-1.0     \u001b[0m | \u001b[0m-1.0     \u001b[0m | \u001b[0m 1.383   \u001b[0m | \u001b[0m 0.8088  \u001b[0m | \u001b[0m 1.174   \u001b[0m | \u001b[0m-4.661   \u001b[0m | \u001b[0m-4.13    \u001b[0m | \u001b[0m-4.744   \u001b[0m | \u001b[0m-4.248   \u001b[0m | \u001b[0m-3.449   \u001b[0m | \u001b[0m-4.342   \u001b[0m | \u001b[0m-4.448   \u001b[0m | \u001b[0m-2.788   \u001b[0m | \u001b[0m-3.737   \u001b[0m | \u001b[0m-3.318   \u001b[0m | \u001b[0m-3.277   \u001b[0m | \u001b[0m-5.04    \u001b[0m | \u001b[0m-3.635   \u001b[0m | \u001b[0m-4.424   \u001b[0m | \u001b[0m-3.933   \u001b[0m | \u001b[0m-3.308   \u001b[0m | \u001b[0m-3.3     \u001b[0m | \u001b[0m-2.518   \u001b[0m | \u001b[0m-4.485   \u001b[0m | \u001b[0m-2.663   \u001b[0m | \u001b[0m-3.316   \u001b[0m | \u001b[0m-3.497   \u001b[0m |\n",
      "| \u001b[0m 157     \u001b[0m | \u001b[0m-88.5    \u001b[0m | \u001b[0m-1.0     \u001b[0m | \u001b[0m-1.0     \u001b[0m | \u001b[0m 1.94    \u001b[0m | \u001b[0m-0.1498  \u001b[0m | \u001b[0m 0.9432  \u001b[0m | \u001b[0m-3.545   \u001b[0m | \u001b[0m-3.919   \u001b[0m | \u001b[0m-3.885   \u001b[0m | \u001b[0m-4.701   \u001b[0m | \u001b[0m-4.723   \u001b[0m | \u001b[0m-4.304   \u001b[0m | \u001b[0m-3.783   \u001b[0m | \u001b[0m-4.507   \u001b[0m | \u001b[0m-4.367   \u001b[0m | \u001b[0m-4.181   \u001b[0m | \u001b[0m-5.577   \u001b[0m | \u001b[0m-4.242   \u001b[0m | \u001b[0m-4.159   \u001b[0m | \u001b[0m-4.0     \u001b[0m | \u001b[0m-2.612   \u001b[0m | \u001b[0m-4.429   \u001b[0m | \u001b[0m-4.606   \u001b[0m | \u001b[0m-4.074   \u001b[0m | \u001b[0m-5.33    \u001b[0m | \u001b[0m-4.121   \u001b[0m | \u001b[0m-3.308   \u001b[0m | \u001b[0m-3.67    \u001b[0m |\n",
      "| \u001b[0m 158     \u001b[0m | \u001b[0m-63.82   \u001b[0m | \u001b[0m-1.0     \u001b[0m | \u001b[0m-1.0     \u001b[0m | \u001b[0m 1.818   \u001b[0m | \u001b[0m-0.2413  \u001b[0m | \u001b[0m 0.2857  \u001b[0m | \u001b[0m-4.052   \u001b[0m | \u001b[0m-5.802   \u001b[0m | \u001b[0m-4.275   \u001b[0m | \u001b[0m-5.618   \u001b[0m | \u001b[0m-4.42    \u001b[0m | \u001b[0m-3.136   \u001b[0m | \u001b[0m-4.666   \u001b[0m | \u001b[0m-4.483   \u001b[0m | \u001b[0m-3.5     \u001b[0m | \u001b[0m-4.248   \u001b[0m | \u001b[0m-4.706   \u001b[0m | \u001b[0m-3.954   \u001b[0m | \u001b[0m-3.785   \u001b[0m | \u001b[0m-3.181   \u001b[0m | \u001b[0m-3.194   \u001b[0m | \u001b[0m-4.761   \u001b[0m | \u001b[0m-4.541   \u001b[0m | \u001b[0m-3.285   \u001b[0m | \u001b[0m-3.498   \u001b[0m | \u001b[0m-2.142   \u001b[0m | \u001b[0m-3.984   \u001b[0m | \u001b[0m-3.515   \u001b[0m |\n",
      "| \u001b[0m 159     \u001b[0m | \u001b[0m-347.9   \u001b[0m | \u001b[0m-1.0     \u001b[0m | \u001b[0m-1.0     \u001b[0m | \u001b[0m 0.9896  \u001b[0m | \u001b[0m 1.347   \u001b[0m | \u001b[0m 1.247   \u001b[0m | \u001b[0m-3.308   \u001b[0m | \u001b[0m-4.77    \u001b[0m | \u001b[0m-2.555   \u001b[0m | \u001b[0m-3.433   \u001b[0m | \u001b[0m-3.717   \u001b[0m | \u001b[0m-4.578   \u001b[0m | \u001b[0m-4.97    \u001b[0m | \u001b[0m-3.682   \u001b[0m | \u001b[0m-4.998   \u001b[0m | \u001b[0m-3.942   \u001b[0m | \u001b[0m-5.384   \u001b[0m | \u001b[0m-2.979   \u001b[0m | \u001b[0m-3.589   \u001b[0m | \u001b[0m-3.694   \u001b[0m | \u001b[0m-3.41    \u001b[0m | \u001b[0m-3.896   \u001b[0m | \u001b[0m-4.859   \u001b[0m | \u001b[0m-3.681   \u001b[0m | \u001b[0m-4.289   \u001b[0m | \u001b[0m-3.027   \u001b[0m | \u001b[0m-4.454   \u001b[0m | \u001b[0m-4.22    \u001b[0m |\n",
      "| \u001b[0m 160     \u001b[0m | \u001b[0m-65.76   \u001b[0m | \u001b[0m-1.0     \u001b[0m | \u001b[0m-1.0     \u001b[0m | \u001b[0m 1.105   \u001b[0m | \u001b[0m-0.1377  \u001b[0m | \u001b[0m 1.813   \u001b[0m | \u001b[0m-4.308   \u001b[0m | \u001b[0m-5.296   \u001b[0m | \u001b[0m-4.829   \u001b[0m | \u001b[0m-3.331   \u001b[0m | \u001b[0m-4.139   \u001b[0m | \u001b[0m-3.619   \u001b[0m | \u001b[0m-3.941   \u001b[0m | \u001b[0m-3.965   \u001b[0m | \u001b[0m-3.951   \u001b[0m | \u001b[0m-4.765   \u001b[0m | \u001b[0m-3.257   \u001b[0m | \u001b[0m-4.042   \u001b[0m | \u001b[0m-3.419   \u001b[0m | \u001b[0m-4.304   \u001b[0m | \u001b[0m-3.335   \u001b[0m | \u001b[0m-4.11    \u001b[0m | \u001b[0m-4.213   \u001b[0m | \u001b[0m-2.996   \u001b[0m | \u001b[0m-4.37    \u001b[0m | \u001b[0m-3.078   \u001b[0m | \u001b[0m-2.52    \u001b[0m | \u001b[0m-4.516   \u001b[0m |\n",
      "| \u001b[0m 161     \u001b[0m | \u001b[0m-87.46   \u001b[0m | \u001b[0m-1.0     \u001b[0m | \u001b[0m-1.0     \u001b[0m | \u001b[0m 1.251   \u001b[0m | \u001b[0m-0.6616  \u001b[0m | \u001b[0m 0.9243  \u001b[0m | \u001b[0m-3.788   \u001b[0m | \u001b[0m-4.885   \u001b[0m | \u001b[0m-3.48    \u001b[0m | \u001b[0m-4.534   \u001b[0m | \u001b[0m-5.097   \u001b[0m | \u001b[0m-4.894   \u001b[0m | \u001b[0m-5.144   \u001b[0m | \u001b[0m-3.411   \u001b[0m | \u001b[0m-3.541   \u001b[0m | \u001b[0m-3.755   \u001b[0m | \u001b[0m-5.19    \u001b[0m | \u001b[0m-4.819   \u001b[0m | \u001b[0m-5.513   \u001b[0m | \u001b[0m-3.943   \u001b[0m | \u001b[0m-2.01    \u001b[0m | \u001b[0m-3.877   \u001b[0m | \u001b[0m-2.351   \u001b[0m | \u001b[0m-3.35    \u001b[0m | \u001b[0m-4.301   \u001b[0m | \u001b[0m-3.057   \u001b[0m | \u001b[0m-4.896   \u001b[0m | \u001b[0m-3.322   \u001b[0m |\n",
      "| \u001b[0m 162     \u001b[0m | \u001b[0m-66.1    \u001b[0m | \u001b[0m-1.0     \u001b[0m | \u001b[0m-1.0     \u001b[0m | \u001b[0m 1.273   \u001b[0m | \u001b[0m 0.09978 \u001b[0m | \u001b[0m 0.782   \u001b[0m | \u001b[0m-2.948   \u001b[0m | \u001b[0m-4.383   \u001b[0m | \u001b[0m-4.78    \u001b[0m | \u001b[0m-3.67    \u001b[0m | \u001b[0m-5.01    \u001b[0m | \u001b[0m-4.192   \u001b[0m | \u001b[0m-3.489   \u001b[0m | \u001b[0m-2.657   \u001b[0m | \u001b[0m-4.029   \u001b[0m | \u001b[0m-3.621   \u001b[0m | \u001b[0m-4.559   \u001b[0m | \u001b[0m-4.198   \u001b[0m | \u001b[0m-4.604   \u001b[0m | \u001b[0m-2.661   \u001b[0m | \u001b[0m-2.663   \u001b[0m | \u001b[0m-3.086   \u001b[0m | \u001b[0m-4.805   \u001b[0m | \u001b[0m-4.163   \u001b[0m | \u001b[0m-4.047   \u001b[0m | \u001b[0m-2.455   \u001b[0m | \u001b[0m-3.819   \u001b[0m | \u001b[0m-4.072   \u001b[0m |\n",
      "| \u001b[0m 163     \u001b[0m | \u001b[0m-111.6   \u001b[0m | \u001b[0m-1.0     \u001b[0m | \u001b[0m-1.0     \u001b[0m | \u001b[0m 1.148   \u001b[0m | \u001b[0m-0.8866  \u001b[0m | \u001b[0m 0.8454  \u001b[0m | \u001b[0m-3.002   \u001b[0m | \u001b[0m-4.767   \u001b[0m | \u001b[0m-3.781   \u001b[0m | \u001b[0m-4.567   \u001b[0m | \u001b[0m-3.448   \u001b[0m | \u001b[0m-3.089   \u001b[0m | \u001b[0m-3.585   \u001b[0m | \u001b[0m-2.676   \u001b[0m | \u001b[0m-5.239   \u001b[0m | \u001b[0m-4.399   \u001b[0m | \u001b[0m-3.192   \u001b[0m | \u001b[0m-4.296   \u001b[0m | \u001b[0m-5.561   \u001b[0m | \u001b[0m-4.639   \u001b[0m | \u001b[0m-3.112   \u001b[0m | \u001b[0m-2.952   \u001b[0m | \u001b[0m-5.0     \u001b[0m | \u001b[0m-2.995   \u001b[0m | \u001b[0m-5.898   \u001b[0m | \u001b[0m-4.443   \u001b[0m | \u001b[0m-4.307   \u001b[0m | \u001b[0m-2.708   \u001b[0m |\n",
      "| \u001b[0m 164     \u001b[0m | \u001b[0m-767.5   \u001b[0m | \u001b[0m-1.0     \u001b[0m | \u001b[0m-1.0     \u001b[0m | \u001b[0m 0.4175  \u001b[0m | \u001b[0m 0.5089  \u001b[0m | \u001b[0m 0.261   \u001b[0m | \u001b[0m-2.634   \u001b[0m | \u001b[0m-5.473   \u001b[0m | \u001b[0m-4.651   \u001b[0m | \u001b[0m-5.132   \u001b[0m | \u001b[0m-3.648   \u001b[0m | \u001b[0m-4.961   \u001b[0m | \u001b[0m-5.907   \u001b[0m | \u001b[0m-3.221   \u001b[0m | \u001b[0m-4.432   \u001b[0m | \u001b[0m-4.369   \u001b[0m | \u001b[0m-3.799   \u001b[0m | \u001b[0m-5.811   \u001b[0m | \u001b[0m-4.797   \u001b[0m | \u001b[0m-3.83    \u001b[0m | \u001b[0m-3.669   \u001b[0m | \u001b[0m-3.675   \u001b[0m | \u001b[0m-4.744   \u001b[0m | \u001b[0m-3.673   \u001b[0m | \u001b[0m-3.618   \u001b[0m | \u001b[0m-2.466   \u001b[0m | \u001b[0m-3.745   \u001b[0m | \u001b[0m-2.961   \u001b[0m |\n",
      "| \u001b[0m 165     \u001b[0m | \u001b[0m-73.03   \u001b[0m | \u001b[0m-1.0     \u001b[0m | \u001b[0m-1.0     \u001b[0m | \u001b[0m 1.147   \u001b[0m | \u001b[0m-0.1817  \u001b[0m | \u001b[0m 0.5646  \u001b[0m | \u001b[0m-2.79    \u001b[0m | \u001b[0m-4.554   \u001b[0m | \u001b[0m-3.235   \u001b[0m | \u001b[0m-4.644   \u001b[0m | \u001b[0m-2.893   \u001b[0m | \u001b[0m-5.313   \u001b[0m | \u001b[0m-3.092   \u001b[0m | \u001b[0m-2.61    \u001b[0m | \u001b[0m-3.437   \u001b[0m | \u001b[0m-4.702   \u001b[0m | \u001b[0m-5.141   \u001b[0m | \u001b[0m-5.477   \u001b[0m | \u001b[0m-4.859   \u001b[0m | \u001b[0m-3.536   \u001b[0m | \u001b[0m-3.546   \u001b[0m | \u001b[0m-3.489   \u001b[0m | \u001b[0m-3.436   \u001b[0m | \u001b[0m-2.743   \u001b[0m | \u001b[0m-4.182   \u001b[0m | \u001b[0m-3.995   \u001b[0m | \u001b[0m-4.628   \u001b[0m | \u001b[0m-3.429   \u001b[0m |\n",
      "| \u001b[0m 166     \u001b[0m | \u001b[0m-69.59   \u001b[0m | \u001b[0m-1.0     \u001b[0m | \u001b[0m-1.0     \u001b[0m | \u001b[0m 1.009   \u001b[0m | \u001b[0m 0.6193  \u001b[0m | \u001b[0m 1.171   \u001b[0m | \u001b[0m-3.203   \u001b[0m | \u001b[0m-5.26    \u001b[0m | \u001b[0m-3.536   \u001b[0m | \u001b[0m-4.643   \u001b[0m | \u001b[0m-4.337   \u001b[0m | \u001b[0m-5.132   \u001b[0m | \u001b[0m-2.768   \u001b[0m | \u001b[0m-2.628   \u001b[0m | \u001b[0m-3.589   \u001b[0m | \u001b[0m-4.312   \u001b[0m | \u001b[0m-5.071   \u001b[0m | \u001b[0m-3.496   \u001b[0m | \u001b[0m-4.175   \u001b[0m | \u001b[0m-4.082   \u001b[0m | \u001b[0m-3.004   \u001b[0m | \u001b[0m-2.975   \u001b[0m | \u001b[0m-4.881   \u001b[0m | \u001b[0m-2.443   \u001b[0m | \u001b[0m-3.408   \u001b[0m | \u001b[0m-3.443   \u001b[0m | \u001b[0m-3.468   \u001b[0m | \u001b[0m-2.495   \u001b[0m |\n",
      "| \u001b[0m 167     \u001b[0m | \u001b[0m-83.05   \u001b[0m | \u001b[0m-1.0     \u001b[0m | \u001b[0m-1.0     \u001b[0m | \u001b[0m 1.163   \u001b[0m | \u001b[0m 0.2578  \u001b[0m | \u001b[0m 0.6363  \u001b[0m | \u001b[0m-3.011   \u001b[0m | \u001b[0m-3.663   \u001b[0m | \u001b[0m-2.719   \u001b[0m | \u001b[0m-4.715   \u001b[0m | \u001b[0m-4.383   \u001b[0m | \u001b[0m-3.543   \u001b[0m | \u001b[0m-4.391   \u001b[0m | \u001b[0m-3.227   \u001b[0m | \u001b[0m-5.023   \u001b[0m | \u001b[0m-3.964   \u001b[0m | \u001b[0m-3.968   \u001b[0m | \u001b[0m-5.074   \u001b[0m | \u001b[0m-3.891   \u001b[0m | \u001b[0m-2.922   \u001b[0m | \u001b[0m-3.636   \u001b[0m | \u001b[0m-3.525   \u001b[0m | \u001b[0m-5.13    \u001b[0m | \u001b[0m-3.831   \u001b[0m | \u001b[0m-4.297   \u001b[0m | \u001b[0m-3.228   \u001b[0m | \u001b[0m-5.068   \u001b[0m | \u001b[0m-5.719   \u001b[0m |\n",
      "| \u001b[0m 168     \u001b[0m | \u001b[0m-132.3   \u001b[0m | \u001b[0m-1.0     \u001b[0m | \u001b[0m-1.0     \u001b[0m | \u001b[0m 0.1271  \u001b[0m | \u001b[0m 0.365   \u001b[0m | \u001b[0m 0.1103  \u001b[0m | \u001b[0m-2.699   \u001b[0m | \u001b[0m-5.691   \u001b[0m | \u001b[0m-2.442   \u001b[0m | \u001b[0m-4.794   \u001b[0m | \u001b[0m-4.262   \u001b[0m | \u001b[0m-5.174   \u001b[0m | \u001b[0m-3.612   \u001b[0m | \u001b[0m-2.97    \u001b[0m | \u001b[0m-4.832   \u001b[0m | \u001b[0m-5.177   \u001b[0m | \u001b[0m-2.891   \u001b[0m | \u001b[0m-4.862   \u001b[0m | \u001b[0m-4.985   \u001b[0m | \u001b[0m-3.317   \u001b[0m | \u001b[0m-3.496   \u001b[0m | \u001b[0m-3.98    \u001b[0m | \u001b[0m-3.797   \u001b[0m | \u001b[0m-2.737   \u001b[0m | \u001b[0m-4.46    \u001b[0m | \u001b[0m-4.3     \u001b[0m | \u001b[0m-2.978   \u001b[0m | \u001b[0m-2.421   \u001b[0m |\n"
     ]
    },
    {
     "name": "stdout",
     "output_type": "stream",
     "text": [
      "| \u001b[0m 169     \u001b[0m | \u001b[0m-94.85   \u001b[0m | \u001b[0m-1.0     \u001b[0m | \u001b[0m-1.0     \u001b[0m | \u001b[0m 0.8368  \u001b[0m | \u001b[0m-0.4066  \u001b[0m | \u001b[0m 1.153   \u001b[0m | \u001b[0m-4.396   \u001b[0m | \u001b[0m-4.591   \u001b[0m | \u001b[0m-4.491   \u001b[0m | \u001b[0m-3.218   \u001b[0m | \u001b[0m-3.758   \u001b[0m | \u001b[0m-4.629   \u001b[0m | \u001b[0m-4.59    \u001b[0m | \u001b[0m-3.918   \u001b[0m | \u001b[0m-5.253   \u001b[0m | \u001b[0m-4.105   \u001b[0m | \u001b[0m-5.538   \u001b[0m | \u001b[0m-3.435   \u001b[0m | \u001b[0m-5.105   \u001b[0m | \u001b[0m-3.459   \u001b[0m | \u001b[0m-3.836   \u001b[0m | \u001b[0m-3.207   \u001b[0m | \u001b[0m-5.365   \u001b[0m | \u001b[0m-4.264   \u001b[0m | \u001b[0m-4.099   \u001b[0m | \u001b[0m-3.865   \u001b[0m | \u001b[0m-2.703   \u001b[0m | \u001b[0m-3.792   \u001b[0m |\n",
      "| \u001b[0m 170     \u001b[0m | \u001b[0m-59.79   \u001b[0m | \u001b[0m-1.0     \u001b[0m | \u001b[0m-1.0     \u001b[0m | \u001b[0m 1.203   \u001b[0m | \u001b[0m 0.4222  \u001b[0m | \u001b[0m 1.708   \u001b[0m | \u001b[0m-3.807   \u001b[0m | \u001b[0m-3.489   \u001b[0m | \u001b[0m-3.201   \u001b[0m | \u001b[0m-5.291   \u001b[0m | \u001b[0m-5.255   \u001b[0m | \u001b[0m-5.316   \u001b[0m | \u001b[0m-4.058   \u001b[0m | \u001b[0m-2.946   \u001b[0m | \u001b[0m-3.58    \u001b[0m | \u001b[0m-4.768   \u001b[0m | \u001b[0m-4.866   \u001b[0m | \u001b[0m-3.465   \u001b[0m | \u001b[0m-5.553   \u001b[0m | \u001b[0m-3.731   \u001b[0m | \u001b[0m-3.053   \u001b[0m | \u001b[0m-3.452   \u001b[0m | \u001b[0m-5.153   \u001b[0m | \u001b[0m-2.325   \u001b[0m | \u001b[0m-5.036   \u001b[0m | \u001b[0m-3.888   \u001b[0m | \u001b[0m-4.926   \u001b[0m | \u001b[0m-3.313   \u001b[0m |\n",
      "| \u001b[0m 171     \u001b[0m | \u001b[0m-62.71   \u001b[0m | \u001b[0m-1.0     \u001b[0m | \u001b[0m-1.0     \u001b[0m | \u001b[0m 1.052   \u001b[0m | \u001b[0m 0.3454  \u001b[0m | \u001b[0m 1.772   \u001b[0m | \u001b[0m-4.224   \u001b[0m | \u001b[0m-4.564   \u001b[0m | \u001b[0m-2.787   \u001b[0m | \u001b[0m-4.292   \u001b[0m | \u001b[0m-4.963   \u001b[0m | \u001b[0m-2.909   \u001b[0m | \u001b[0m-5.736   \u001b[0m | \u001b[0m-4.463   \u001b[0m | \u001b[0m-4.52    \u001b[0m | \u001b[0m-4.767   \u001b[0m | \u001b[0m-4.31    \u001b[0m | \u001b[0m-4.413   \u001b[0m | \u001b[0m-4.083   \u001b[0m | \u001b[0m-4.198   \u001b[0m | \u001b[0m-4.227   \u001b[0m | \u001b[0m-5.547   \u001b[0m | \u001b[0m-4.18    \u001b[0m | \u001b[0m-3.158   \u001b[0m | \u001b[0m-2.586   \u001b[0m | \u001b[0m-2.938   \u001b[0m | \u001b[0m-4.125   \u001b[0m | \u001b[0m-2.721   \u001b[0m |\n",
      "| \u001b[0m 172     \u001b[0m | \u001b[0m-55.02   \u001b[0m | \u001b[0m-1.0     \u001b[0m | \u001b[0m-1.0     \u001b[0m | \u001b[0m 1.68    \u001b[0m | \u001b[0m 0.5477  \u001b[0m | \u001b[0m 0.721   \u001b[0m | \u001b[0m-4.065   \u001b[0m | \u001b[0m-4.719   \u001b[0m | \u001b[0m-3.474   \u001b[0m | \u001b[0m-4.952   \u001b[0m | \u001b[0m-4.798   \u001b[0m | \u001b[0m-5.076   \u001b[0m | \u001b[0m-4.654   \u001b[0m | \u001b[0m-3.714   \u001b[0m | \u001b[0m-4.909   \u001b[0m | \u001b[0m-3.778   \u001b[0m | \u001b[0m-3.867   \u001b[0m | \u001b[0m-2.156   \u001b[0m | \u001b[0m-4.914   \u001b[0m | \u001b[0m-3.881   \u001b[0m | \u001b[0m-4.591   \u001b[0m | \u001b[0m-3.301   \u001b[0m | \u001b[0m-4.466   \u001b[0m | \u001b[0m-4.366   \u001b[0m | \u001b[0m-4.692   \u001b[0m | \u001b[0m-2.47    \u001b[0m | \u001b[0m-3.483   \u001b[0m | \u001b[0m-3.145   \u001b[0m |\n",
      "| \u001b[0m 173     \u001b[0m | \u001b[0m-98.95   \u001b[0m | \u001b[0m-1.0     \u001b[0m | \u001b[0m-1.0     \u001b[0m | \u001b[0m 0.2601  \u001b[0m | \u001b[0m 0.02697 \u001b[0m | \u001b[0m 0.5312  \u001b[0m | \u001b[0m-4.669   \u001b[0m | \u001b[0m-3.813   \u001b[0m | \u001b[0m-3.197   \u001b[0m | \u001b[0m-4.199   \u001b[0m | \u001b[0m-4.368   \u001b[0m | \u001b[0m-3.215   \u001b[0m | \u001b[0m-4.335   \u001b[0m | \u001b[0m-2.813   \u001b[0m | \u001b[0m-3.283   \u001b[0m | \u001b[0m-5.16    \u001b[0m | \u001b[0m-5.198   \u001b[0m | \u001b[0m-4.349   \u001b[0m | \u001b[0m-4.406   \u001b[0m | \u001b[0m-3.357   \u001b[0m | \u001b[0m-2.994   \u001b[0m | \u001b[0m-3.575   \u001b[0m | \u001b[0m-4.485   \u001b[0m | \u001b[0m-2.824   \u001b[0m | \u001b[0m-4.806   \u001b[0m | \u001b[0m-2.575   \u001b[0m | \u001b[0m-4.712   \u001b[0m | \u001b[0m-4.068   \u001b[0m |\n",
      "| \u001b[0m 174     \u001b[0m | \u001b[0m-174.0   \u001b[0m | \u001b[0m-1.0     \u001b[0m | \u001b[0m-1.0     \u001b[0m | \u001b[0m 0.4903  \u001b[0m | \u001b[0m 0.5695  \u001b[0m | \u001b[0m 0.5916  \u001b[0m | \u001b[0m-2.722   \u001b[0m | \u001b[0m-5.075   \u001b[0m | \u001b[0m-3.651   \u001b[0m | \u001b[0m-4.095   \u001b[0m | \u001b[0m-3.692   \u001b[0m | \u001b[0m-4.352   \u001b[0m | \u001b[0m-5.126   \u001b[0m | \u001b[0m-3.378   \u001b[0m | \u001b[0m-4.666   \u001b[0m | \u001b[0m-5.801   \u001b[0m | \u001b[0m-4.814   \u001b[0m | \u001b[0m-4.386   \u001b[0m | \u001b[0m-4.516   \u001b[0m | \u001b[0m-3.51    \u001b[0m | \u001b[0m-3.483   \u001b[0m | \u001b[0m-3.984   \u001b[0m | \u001b[0m-5.025   \u001b[0m | \u001b[0m-3.268   \u001b[0m | \u001b[0m-5.584   \u001b[0m | \u001b[0m-3.771   \u001b[0m | \u001b[0m-3.965   \u001b[0m | \u001b[0m-4.128   \u001b[0m |\n",
      "| \u001b[0m 175     \u001b[0m | \u001b[0m-1.591e+0\u001b[0m | \u001b[0m-1.0     \u001b[0m | \u001b[0m-1.0     \u001b[0m | \u001b[0m 0.1156  \u001b[0m | \u001b[0m 0.5731  \u001b[0m | \u001b[0m 0.8076  \u001b[0m | \u001b[0m-4.724   \u001b[0m | \u001b[0m-4.948   \u001b[0m | \u001b[0m-2.765   \u001b[0m | \u001b[0m-4.368   \u001b[0m | \u001b[0m-3.991   \u001b[0m | \u001b[0m-4.255   \u001b[0m | \u001b[0m-4.288   \u001b[0m | \u001b[0m-5.066   \u001b[0m | \u001b[0m-4.467   \u001b[0m | \u001b[0m-3.512   \u001b[0m | \u001b[0m-4.054   \u001b[0m | \u001b[0m-3.097   \u001b[0m | \u001b[0m-5.16    \u001b[0m | \u001b[0m-4.195   \u001b[0m | \u001b[0m-3.338   \u001b[0m | \u001b[0m-4.65    \u001b[0m | \u001b[0m-4.108   \u001b[0m | \u001b[0m-2.724   \u001b[0m | \u001b[0m-4.035   \u001b[0m | \u001b[0m-3.797   \u001b[0m | \u001b[0m-3.684   \u001b[0m | \u001b[0m-3.05    \u001b[0m |\n",
      "| \u001b[0m 176     \u001b[0m | \u001b[0m-111.3   \u001b[0m | \u001b[0m-1.0     \u001b[0m | \u001b[0m-1.0     \u001b[0m | \u001b[0m 0.8424  \u001b[0m | \u001b[0m-0.4181  \u001b[0m | \u001b[0m 0.4804  \u001b[0m | \u001b[0m-3.087   \u001b[0m | \u001b[0m-5.95    \u001b[0m | \u001b[0m-3.596   \u001b[0m | \u001b[0m-5.272   \u001b[0m | \u001b[0m-4.323   \u001b[0m | \u001b[0m-4.202   \u001b[0m | \u001b[0m-4.477   \u001b[0m | \u001b[0m-4.544   \u001b[0m | \u001b[0m-5.553   \u001b[0m | \u001b[0m-3.046   \u001b[0m | \u001b[0m-4.565   \u001b[0m | \u001b[0m-4.023   \u001b[0m | \u001b[0m-3.85    \u001b[0m | \u001b[0m-3.481   \u001b[0m | \u001b[0m-4.893   \u001b[0m | \u001b[0m-3.066   \u001b[0m | \u001b[0m-4.967   \u001b[0m | \u001b[0m-3.283   \u001b[0m | \u001b[0m-4.524   \u001b[0m | \u001b[0m-3.501   \u001b[0m | \u001b[0m-4.555   \u001b[0m | \u001b[0m-4.004   \u001b[0m |\n",
      "| \u001b[0m 177     \u001b[0m | \u001b[0m-77.13   \u001b[0m | \u001b[0m-1.0     \u001b[0m | \u001b[0m-1.0     \u001b[0m | \u001b[0m 1.62    \u001b[0m | \u001b[0m-0.1143  \u001b[0m | \u001b[0m 1.062   \u001b[0m | \u001b[0m-3.632   \u001b[0m | \u001b[0m-5.304   \u001b[0m | \u001b[0m-2.793   \u001b[0m | \u001b[0m-5.938   \u001b[0m | \u001b[0m-3.896   \u001b[0m | \u001b[0m-3.671   \u001b[0m | \u001b[0m-4.112   \u001b[0m | \u001b[0m-4.522   \u001b[0m | \u001b[0m-2.807   \u001b[0m | \u001b[0m-2.389   \u001b[0m | \u001b[0m-3.709   \u001b[0m | \u001b[0m-4.542   \u001b[0m | \u001b[0m-3.994   \u001b[0m | \u001b[0m-4.067   \u001b[0m | \u001b[0m-4.596   \u001b[0m | \u001b[0m-5.194   \u001b[0m | \u001b[0m-4.0     \u001b[0m | \u001b[0m-3.0     \u001b[0m | \u001b[0m-3.773   \u001b[0m | \u001b[0m-2.813   \u001b[0m | \u001b[0m-3.575   \u001b[0m | \u001b[0m-2.63    \u001b[0m |\n",
      "| \u001b[0m 178     \u001b[0m | \u001b[0m-77.27   \u001b[0m | \u001b[0m-1.0     \u001b[0m | \u001b[0m-1.0     \u001b[0m | \u001b[0m 0.8571  \u001b[0m | \u001b[0m-0.142   \u001b[0m | \u001b[0m 1.689   \u001b[0m | \u001b[0m-2.866   \u001b[0m | \u001b[0m-5.27    \u001b[0m | \u001b[0m-3.69    \u001b[0m | \u001b[0m-4.359   \u001b[0m | \u001b[0m-4.304   \u001b[0m | \u001b[0m-5.557   \u001b[0m | \u001b[0m-3.988   \u001b[0m | \u001b[0m-4.332   \u001b[0m | \u001b[0m-4.538   \u001b[0m | \u001b[0m-3.069   \u001b[0m | \u001b[0m-4.935   \u001b[0m | \u001b[0m-3.636   \u001b[0m | \u001b[0m-2.855   \u001b[0m | \u001b[0m-4.392   \u001b[0m | \u001b[0m-3.786   \u001b[0m | \u001b[0m-4.158   \u001b[0m | \u001b[0m-3.163   \u001b[0m | \u001b[0m-3.781   \u001b[0m | \u001b[0m-4.049   \u001b[0m | \u001b[0m-2.944   \u001b[0m | \u001b[0m-4.041   \u001b[0m | \u001b[0m-2.956   \u001b[0m |\n",
      "| \u001b[0m 179     \u001b[0m | \u001b[0m-68.85   \u001b[0m | \u001b[0m-1.0     \u001b[0m | \u001b[0m-1.0     \u001b[0m | \u001b[0m 1.081   \u001b[0m | \u001b[0m 0.472   \u001b[0m | \u001b[0m 0.9597  \u001b[0m | \u001b[0m-3.0     \u001b[0m | \u001b[0m-5.612   \u001b[0m | \u001b[0m-4.128   \u001b[0m | \u001b[0m-4.369   \u001b[0m | \u001b[0m-4.03    \u001b[0m | \u001b[0m-4.529   \u001b[0m | \u001b[0m-4.694   \u001b[0m | \u001b[0m-4.035   \u001b[0m | \u001b[0m-4.633   \u001b[0m | \u001b[0m-3.548   \u001b[0m | \u001b[0m-5.082   \u001b[0m | \u001b[0m-3.956   \u001b[0m | \u001b[0m-5.977   \u001b[0m | \u001b[0m-3.35    \u001b[0m | \u001b[0m-2.887   \u001b[0m | \u001b[0m-2.162   \u001b[0m | \u001b[0m-3.326   \u001b[0m | \u001b[0m-3.115   \u001b[0m | \u001b[0m-5.444   \u001b[0m | \u001b[0m-2.259   \u001b[0m | \u001b[0m-3.583   \u001b[0m | \u001b[0m-3.768   \u001b[0m |\n",
      "| \u001b[0m 180     \u001b[0m | \u001b[0m-72.79   \u001b[0m | \u001b[0m-1.0     \u001b[0m | \u001b[0m-1.0     \u001b[0m | \u001b[0m 1.545   \u001b[0m | \u001b[0m-0.9362  \u001b[0m | \u001b[0m 0.8661  \u001b[0m | \u001b[0m-4.365   \u001b[0m | \u001b[0m-4.627   \u001b[0m | \u001b[0m-3.751   \u001b[0m | \u001b[0m-5.604   \u001b[0m | \u001b[0m-4.933   \u001b[0m | \u001b[0m-5.497   \u001b[0m | \u001b[0m-4.812   \u001b[0m | \u001b[0m-2.249   \u001b[0m | \u001b[0m-3.175   \u001b[0m | \u001b[0m-3.067   \u001b[0m | \u001b[0m-4.225   \u001b[0m | \u001b[0m-5.367   \u001b[0m | \u001b[0m-4.421   \u001b[0m | \u001b[0m-4.329   \u001b[0m | \u001b[0m-3.58    \u001b[0m | \u001b[0m-4.661   \u001b[0m | \u001b[0m-3.695   \u001b[0m | \u001b[0m-2.14    \u001b[0m | \u001b[0m-5.333   \u001b[0m | \u001b[0m-3.035   \u001b[0m | \u001b[0m-4.516   \u001b[0m | \u001b[0m-3.235   \u001b[0m |\n",
      "| \u001b[0m 181     \u001b[0m | \u001b[0m-69.79   \u001b[0m | \u001b[0m-1.0     \u001b[0m | \u001b[0m-1.0     \u001b[0m | \u001b[0m 1.057   \u001b[0m | \u001b[0m-0.3105  \u001b[0m | \u001b[0m 0.9956  \u001b[0m | \u001b[0m-2.449   \u001b[0m | \u001b[0m-4.248   \u001b[0m | \u001b[0m-4.785   \u001b[0m | \u001b[0m-3.444   \u001b[0m | \u001b[0m-5.153   \u001b[0m | \u001b[0m-4.599   \u001b[0m | \u001b[0m-4.767   \u001b[0m | \u001b[0m-3.691   \u001b[0m | \u001b[0m-3.826   \u001b[0m | \u001b[0m-4.0     \u001b[0m | \u001b[0m-5.405   \u001b[0m | \u001b[0m-3.942   \u001b[0m | \u001b[0m-5.017   \u001b[0m | \u001b[0m-4.691   \u001b[0m | \u001b[0m-3.879   \u001b[0m | \u001b[0m-3.501   \u001b[0m | \u001b[0m-4.137   \u001b[0m | \u001b[0m-2.772   \u001b[0m | \u001b[0m-4.297   \u001b[0m | \u001b[0m-3.991   \u001b[0m | \u001b[0m-4.185   \u001b[0m | \u001b[0m-3.051   \u001b[0m |\n",
      "| \u001b[0m 182     \u001b[0m | \u001b[0m-66.56   \u001b[0m | \u001b[0m-1.0     \u001b[0m | \u001b[0m-1.0     \u001b[0m | \u001b[0m 1.221   \u001b[0m | \u001b[0m 0.2433  \u001b[0m | \u001b[0m 0.9259  \u001b[0m | \u001b[0m-4.568   \u001b[0m | \u001b[0m-5.853   \u001b[0m | \u001b[0m-3.091   \u001b[0m | \u001b[0m-5.578   \u001b[0m | \u001b[0m-4.902   \u001b[0m | \u001b[0m-5.765   \u001b[0m | \u001b[0m-4.986   \u001b[0m | \u001b[0m-2.992   \u001b[0m | \u001b[0m-4.46    \u001b[0m | \u001b[0m-4.704   \u001b[0m | \u001b[0m-4.111   \u001b[0m | \u001b[0m-3.501   \u001b[0m | \u001b[0m-5.019   \u001b[0m | \u001b[0m-3.261   \u001b[0m | \u001b[0m-3.619   \u001b[0m | \u001b[0m-4.175   \u001b[0m | \u001b[0m-4.275   \u001b[0m | \u001b[0m-3.306   \u001b[0m | \u001b[0m-5.354   \u001b[0m | \u001b[0m-3.233   \u001b[0m | \u001b[0m-2.959   \u001b[0m | \u001b[0m-3.364   \u001b[0m |\n",
      "| \u001b[0m 183     \u001b[0m | \u001b[0m-70.13   \u001b[0m | \u001b[0m-1.0     \u001b[0m | \u001b[0m-1.0     \u001b[0m | \u001b[0m 1.174   \u001b[0m | \u001b[0m-0.5549  \u001b[0m | \u001b[0m 1.176   \u001b[0m | \u001b[0m-2.925   \u001b[0m | \u001b[0m-5.796   \u001b[0m | \u001b[0m-3.82    \u001b[0m | \u001b[0m-5.732   \u001b[0m | \u001b[0m-4.231   \u001b[0m | \u001b[0m-4.951   \u001b[0m | \u001b[0m-3.932   \u001b[0m | \u001b[0m-2.959   \u001b[0m | \u001b[0m-4.386   \u001b[0m | \u001b[0m-5.349   \u001b[0m | \u001b[0m-4.127   \u001b[0m | \u001b[0m-3.339   \u001b[0m | \u001b[0m-5.032   \u001b[0m | \u001b[0m-3.911   \u001b[0m | \u001b[0m-4.407   \u001b[0m | \u001b[0m-3.834   \u001b[0m | \u001b[0m-5.304   \u001b[0m | \u001b[0m-3.622   \u001b[0m | \u001b[0m-4.51    \u001b[0m | \u001b[0m-4.462   \u001b[0m | \u001b[0m-5.677   \u001b[0m | \u001b[0m-2.436   \u001b[0m |\n"
     ]
    },
    {
     "name": "stdout",
     "output_type": "stream",
     "text": [
      "| \u001b[0m 184     \u001b[0m | \u001b[0m-102.2   \u001b[0m | \u001b[0m-1.0     \u001b[0m | \u001b[0m-1.0     \u001b[0m | \u001b[0m 0.6711  \u001b[0m | \u001b[0m-0.8543  \u001b[0m | \u001b[0m 1.243   \u001b[0m | \u001b[0m-4.74    \u001b[0m | \u001b[0m-5.289   \u001b[0m | \u001b[0m-4.83    \u001b[0m | \u001b[0m-4.839   \u001b[0m | \u001b[0m-5.053   \u001b[0m | \u001b[0m-3.609   \u001b[0m | \u001b[0m-3.891   \u001b[0m | \u001b[0m-2.846   \u001b[0m | \u001b[0m-2.755   \u001b[0m | \u001b[0m-4.978   \u001b[0m | \u001b[0m-4.449   \u001b[0m | \u001b[0m-5.092   \u001b[0m | \u001b[0m-4.982   \u001b[0m | \u001b[0m-4.625   \u001b[0m | \u001b[0m-2.843   \u001b[0m | \u001b[0m-4.373   \u001b[0m | \u001b[0m-4.507   \u001b[0m | \u001b[0m-4.193   \u001b[0m | \u001b[0m-5.027   \u001b[0m | \u001b[0m-2.432   \u001b[0m | \u001b[0m-3.854   \u001b[0m | \u001b[0m-2.43    \u001b[0m |\n",
      "| \u001b[0m 185     \u001b[0m | \u001b[0m-84.53   \u001b[0m | \u001b[0m-1.0     \u001b[0m | \u001b[0m-1.0     \u001b[0m | \u001b[0m 1.077   \u001b[0m | \u001b[0m 0.6142  \u001b[0m | \u001b[0m 0.521   \u001b[0m | \u001b[0m-2.624   \u001b[0m | \u001b[0m-5.823   \u001b[0m | \u001b[0m-2.932   \u001b[0m | \u001b[0m-4.165   \u001b[0m | \u001b[0m-4.027   \u001b[0m | \u001b[0m-5.975   \u001b[0m | \u001b[0m-4.63    \u001b[0m | \u001b[0m-3.259   \u001b[0m | \u001b[0m-4.003   \u001b[0m | \u001b[0m-3.563   \u001b[0m | \u001b[0m-4.514   \u001b[0m | \u001b[0m-4.17    \u001b[0m | \u001b[0m-3.637   \u001b[0m | \u001b[0m-3.458   \u001b[0m | \u001b[0m-2.818   \u001b[0m | \u001b[0m-4.175   \u001b[0m | \u001b[0m-2.597   \u001b[0m | \u001b[0m-3.349   \u001b[0m | \u001b[0m-5.056   \u001b[0m | \u001b[0m-3.389   \u001b[0m | \u001b[0m-2.731   \u001b[0m | \u001b[0m-2.599   \u001b[0m |\n",
      "| \u001b[0m 186     \u001b[0m | \u001b[0m-202.4   \u001b[0m | \u001b[0m-1.0     \u001b[0m | \u001b[0m-1.0     \u001b[0m | \u001b[0m 0.7149  \u001b[0m | \u001b[0m 0.6083  \u001b[0m | \u001b[0m 0.3303  \u001b[0m | \u001b[0m-4.112   \u001b[0m | \u001b[0m-4.862   \u001b[0m | \u001b[0m-3.698   \u001b[0m | \u001b[0m-4.788   \u001b[0m | \u001b[0m-3.449   \u001b[0m | \u001b[0m-4.427   \u001b[0m | \u001b[0m-3.489   \u001b[0m | \u001b[0m-3.095   \u001b[0m | \u001b[0m-3.162   \u001b[0m | \u001b[0m-4.635   \u001b[0m | \u001b[0m-5.04    \u001b[0m | \u001b[0m-4.713   \u001b[0m | \u001b[0m-5.135   \u001b[0m | \u001b[0m-4.441   \u001b[0m | \u001b[0m-2.768   \u001b[0m | \u001b[0m-3.035   \u001b[0m | \u001b[0m-4.298   \u001b[0m | \u001b[0m-2.221   \u001b[0m | \u001b[0m-3.427   \u001b[0m | \u001b[0m-4.391   \u001b[0m | \u001b[0m-5.238   \u001b[0m | \u001b[0m-3.066   \u001b[0m |\n",
      "| \u001b[0m 187     \u001b[0m | \u001b[0m-109.9   \u001b[0m | \u001b[0m-1.0     \u001b[0m | \u001b[0m-1.0     \u001b[0m | \u001b[0m 1.027   \u001b[0m | \u001b[0m 0.9311  \u001b[0m | \u001b[0m 0.4827  \u001b[0m | \u001b[0m-3.561   \u001b[0m | \u001b[0m-4.19    \u001b[0m | \u001b[0m-3.89    \u001b[0m | \u001b[0m-4.77    \u001b[0m | \u001b[0m-3.951   \u001b[0m | \u001b[0m-5.268   \u001b[0m | \u001b[0m-5.324   \u001b[0m | \u001b[0m-3.274   \u001b[0m | \u001b[0m-5.528   \u001b[0m | \u001b[0m-4.077   \u001b[0m | \u001b[0m-4.042   \u001b[0m | \u001b[0m-4.733   \u001b[0m | \u001b[0m-5.057   \u001b[0m | \u001b[0m-3.616   \u001b[0m | \u001b[0m-4.072   \u001b[0m | \u001b[0m-5.49    \u001b[0m | \u001b[0m-2.963   \u001b[0m | \u001b[0m-3.307   \u001b[0m | \u001b[0m-4.102   \u001b[0m | \u001b[0m-2.357   \u001b[0m | \u001b[0m-3.08    \u001b[0m | \u001b[0m-3.429   \u001b[0m |\n",
      "| \u001b[0m 188     \u001b[0m | \u001b[0m-210.8   \u001b[0m | \u001b[0m-1.0     \u001b[0m | \u001b[0m-1.0     \u001b[0m | \u001b[0m 0.3599  \u001b[0m | \u001b[0m-1.453   \u001b[0m | \u001b[0m 1.003   \u001b[0m | \u001b[0m-4.854   \u001b[0m | \u001b[0m-5.114   \u001b[0m | \u001b[0m-3.173   \u001b[0m | \u001b[0m-4.502   \u001b[0m | \u001b[0m-5.263   \u001b[0m | \u001b[0m-4.544   \u001b[0m | \u001b[0m-3.469   \u001b[0m | \u001b[0m-3.135   \u001b[0m | \u001b[0m-2.008   \u001b[0m | \u001b[0m-3.773   \u001b[0m | \u001b[0m-4.875   \u001b[0m | \u001b[0m-4.108   \u001b[0m | \u001b[0m-4.827   \u001b[0m | \u001b[0m-5.559   \u001b[0m | \u001b[0m-4.42    \u001b[0m | \u001b[0m-4.083   \u001b[0m | \u001b[0m-3.874   \u001b[0m | \u001b[0m-2.344   \u001b[0m | \u001b[0m-3.936   \u001b[0m | \u001b[0m-3.191   \u001b[0m | \u001b[0m-3.007   \u001b[0m | \u001b[0m-3.868   \u001b[0m |\n",
      "| \u001b[0m 189     \u001b[0m | \u001b[0m-83.36   \u001b[0m | \u001b[0m-1.0     \u001b[0m | \u001b[0m-1.0     \u001b[0m | \u001b[0m 1.172   \u001b[0m | \u001b[0m-0.05501 \u001b[0m | \u001b[0m 1.002   \u001b[0m | \u001b[0m-3.126   \u001b[0m | \u001b[0m-4.623   \u001b[0m | \u001b[0m-4.237   \u001b[0m | \u001b[0m-4.541   \u001b[0m | \u001b[0m-4.212   \u001b[0m | \u001b[0m-5.479   \u001b[0m | \u001b[0m-2.83    \u001b[0m | \u001b[0m-2.31    \u001b[0m | \u001b[0m-4.169   \u001b[0m | \u001b[0m-3.656   \u001b[0m | \u001b[0m-5.377   \u001b[0m | \u001b[0m-4.651   \u001b[0m | \u001b[0m-5.125   \u001b[0m | \u001b[0m-4.445   \u001b[0m | \u001b[0m-5.114   \u001b[0m | \u001b[0m-4.889   \u001b[0m | \u001b[0m-4.812   \u001b[0m | \u001b[0m-3.76    \u001b[0m | \u001b[0m-4.39    \u001b[0m | \u001b[0m-3.063   \u001b[0m | \u001b[0m-3.381   \u001b[0m | \u001b[0m-3.67    \u001b[0m |\n",
      "| \u001b[0m 190     \u001b[0m | \u001b[0m-61.97   \u001b[0m | \u001b[0m-1.0     \u001b[0m | \u001b[0m-1.0     \u001b[0m | \u001b[0m 1.817   \u001b[0m | \u001b[0m 0.7703  \u001b[0m | \u001b[0m 1.043   \u001b[0m | \u001b[0m-3.885   \u001b[0m | \u001b[0m-3.69    \u001b[0m | \u001b[0m-2.613   \u001b[0m | \u001b[0m-4.314   \u001b[0m | \u001b[0m-3.911   \u001b[0m | \u001b[0m-4.124   \u001b[0m | \u001b[0m-3.71    \u001b[0m | \u001b[0m-3.148   \u001b[0m | \u001b[0m-4.595   \u001b[0m | \u001b[0m-3.062   \u001b[0m | \u001b[0m-4.352   \u001b[0m | \u001b[0m-2.87    \u001b[0m | \u001b[0m-3.808   \u001b[0m | \u001b[0m-2.886   \u001b[0m | \u001b[0m-2.457   \u001b[0m | \u001b[0m-4.299   \u001b[0m | \u001b[0m-3.406   \u001b[0m | \u001b[0m-4.43    \u001b[0m | \u001b[0m-3.382   \u001b[0m | \u001b[0m-3.145   \u001b[0m | \u001b[0m-3.732   \u001b[0m | \u001b[0m-4.12    \u001b[0m |\n",
      "| \u001b[0m 191     \u001b[0m | \u001b[0m-64.78   \u001b[0m | \u001b[0m-1.0     \u001b[0m | \u001b[0m-1.0     \u001b[0m | \u001b[0m 1.996   \u001b[0m | \u001b[0m 0.6692  \u001b[0m | \u001b[0m 1.847   \u001b[0m | \u001b[0m-4.428   \u001b[0m | \u001b[0m-4.539   \u001b[0m | \u001b[0m-3.801   \u001b[0m | \u001b[0m-4.822   \u001b[0m | \u001b[0m-3.007   \u001b[0m | \u001b[0m-4.887   \u001b[0m | \u001b[0m-4.737   \u001b[0m | \u001b[0m-2.847   \u001b[0m | \u001b[0m-3.724   \u001b[0m | \u001b[0m-2.608   \u001b[0m | \u001b[0m-4.259   \u001b[0m | \u001b[0m-3.841   \u001b[0m | \u001b[0m-5.548   \u001b[0m | \u001b[0m-4.349   \u001b[0m | \u001b[0m-2.501   \u001b[0m | \u001b[0m-3.261   \u001b[0m | \u001b[0m-5.604   \u001b[0m | \u001b[0m-3.808   \u001b[0m | \u001b[0m-4.328   \u001b[0m | \u001b[0m-3.055   \u001b[0m | \u001b[0m-3.643   \u001b[0m | \u001b[0m-3.13    \u001b[0m |\n",
      "| \u001b[0m 192     \u001b[0m | \u001b[0m-125.2   \u001b[0m | \u001b[0m-1.0     \u001b[0m | \u001b[0m-1.0     \u001b[0m | \u001b[0m 0.8248  \u001b[0m | \u001b[0m-1.303   \u001b[0m | \u001b[0m 0.6742  \u001b[0m | \u001b[0m-3.177   \u001b[0m | \u001b[0m-5.264   \u001b[0m | \u001b[0m-4.133   \u001b[0m | \u001b[0m-4.553   \u001b[0m | \u001b[0m-5.263   \u001b[0m | \u001b[0m-4.69    \u001b[0m | \u001b[0m-3.951   \u001b[0m | \u001b[0m-3.045   \u001b[0m | \u001b[0m-3.526   \u001b[0m | \u001b[0m-5.056   \u001b[0m | \u001b[0m-4.594   \u001b[0m | \u001b[0m-4.473   \u001b[0m | \u001b[0m-4.739   \u001b[0m | \u001b[0m-2.473   \u001b[0m | \u001b[0m-4.013   \u001b[0m | \u001b[0m-3.376   \u001b[0m | \u001b[0m-4.082   \u001b[0m | \u001b[0m-4.886   \u001b[0m | \u001b[0m-5.849   \u001b[0m | \u001b[0m-3.863   \u001b[0m | \u001b[0m-3.842   \u001b[0m | \u001b[0m-4.497   \u001b[0m |\n",
      "| \u001b[0m 193     \u001b[0m | \u001b[0m-248.1   \u001b[0m | \u001b[0m-1.0     \u001b[0m | \u001b[0m-1.0     \u001b[0m | \u001b[0m 0.4713  \u001b[0m | \u001b[0m-0.8914  \u001b[0m | \u001b[0m 1.724   \u001b[0m | \u001b[0m-4.014   \u001b[0m | \u001b[0m-5.178   \u001b[0m | \u001b[0m-2.431   \u001b[0m | \u001b[0m-3.546   \u001b[0m | \u001b[0m-2.956   \u001b[0m | \u001b[0m-4.627   \u001b[0m | \u001b[0m-5.185   \u001b[0m | \u001b[0m-5.093   \u001b[0m | \u001b[0m-3.086   \u001b[0m | \u001b[0m-3.541   \u001b[0m | \u001b[0m-4.145   \u001b[0m | \u001b[0m-4.36    \u001b[0m | \u001b[0m-4.359   \u001b[0m | \u001b[0m-3.172   \u001b[0m | \u001b[0m-3.165   \u001b[0m | \u001b[0m-4.273   \u001b[0m | \u001b[0m-3.713   \u001b[0m | \u001b[0m-3.066   \u001b[0m | \u001b[0m-4.781   \u001b[0m | \u001b[0m-3.531   \u001b[0m | \u001b[0m-3.62    \u001b[0m | \u001b[0m-3.821   \u001b[0m |\n",
      "| \u001b[0m 194     \u001b[0m | \u001b[0m-72.87   \u001b[0m | \u001b[0m-1.0     \u001b[0m | \u001b[0m-1.0     \u001b[0m | \u001b[0m 1.901   \u001b[0m | \u001b[0m-0.0822  \u001b[0m | \u001b[0m 0.1963  \u001b[0m | \u001b[0m-3.314   \u001b[0m | \u001b[0m-4.285   \u001b[0m | \u001b[0m-4.948   \u001b[0m | \u001b[0m-5.726   \u001b[0m | \u001b[0m-4.471   \u001b[0m | \u001b[0m-2.856   \u001b[0m | \u001b[0m-4.501   \u001b[0m | \u001b[0m-2.769   \u001b[0m | \u001b[0m-3.788   \u001b[0m | \u001b[0m-4.713   \u001b[0m | \u001b[0m-3.722   \u001b[0m | \u001b[0m-4.021   \u001b[0m | \u001b[0m-3.996   \u001b[0m | \u001b[0m-3.866   \u001b[0m | \u001b[0m-2.325   \u001b[0m | \u001b[0m-3.287   \u001b[0m | \u001b[0m-3.471   \u001b[0m | \u001b[0m-3.513   \u001b[0m | \u001b[0m-5.435   \u001b[0m | \u001b[0m-2.886   \u001b[0m | \u001b[0m-3.473   \u001b[0m | \u001b[0m-2.403   \u001b[0m |\n",
      "| \u001b[0m 195     \u001b[0m | \u001b[0m-68.65   \u001b[0m | \u001b[0m-1.0     \u001b[0m | \u001b[0m-1.0     \u001b[0m | \u001b[0m 1.005   \u001b[0m | \u001b[0m 0.4019  \u001b[0m | \u001b[0m 1.903   \u001b[0m | \u001b[0m-2.835   \u001b[0m | \u001b[0m-5.029   \u001b[0m | \u001b[0m-4.246   \u001b[0m | \u001b[0m-4.345   \u001b[0m | \u001b[0m-3.684   \u001b[0m | \u001b[0m-3.761   \u001b[0m | \u001b[0m-4.099   \u001b[0m | \u001b[0m-3.517   \u001b[0m | \u001b[0m-4.052   \u001b[0m | \u001b[0m-2.531   \u001b[0m | \u001b[0m-4.881   \u001b[0m | \u001b[0m-3.35    \u001b[0m | \u001b[0m-5.087   \u001b[0m | \u001b[0m-4.248   \u001b[0m | \u001b[0m-3.766   \u001b[0m | \u001b[0m-3.585   \u001b[0m | \u001b[0m-4.264   \u001b[0m | \u001b[0m-3.875   \u001b[0m | \u001b[0m-5.047   \u001b[0m | \u001b[0m-4.199   \u001b[0m | \u001b[0m-5.508   \u001b[0m | \u001b[0m-3.255   \u001b[0m |\n",
      "| \u001b[0m 196     \u001b[0m | \u001b[0m-74.96   \u001b[0m | \u001b[0m-1.0     \u001b[0m | \u001b[0m-1.0     \u001b[0m | \u001b[0m 0.5524  \u001b[0m | \u001b[0m 0.52    \u001b[0m | \u001b[0m 1.434   \u001b[0m | \u001b[0m-3.47    \u001b[0m | \u001b[0m-4.941   \u001b[0m | \u001b[0m-4.212   \u001b[0m | \u001b[0m-4.586   \u001b[0m | \u001b[0m-4.75    \u001b[0m | \u001b[0m-5.52    \u001b[0m | \u001b[0m-3.433   \u001b[0m | \u001b[0m-3.388   \u001b[0m | \u001b[0m-3.14    \u001b[0m | \u001b[0m-5.284   \u001b[0m | \u001b[0m-3.263   \u001b[0m | \u001b[0m-4.417   \u001b[0m | \u001b[0m-3.292   \u001b[0m | \u001b[0m-5.104   \u001b[0m | \u001b[0m-4.036   \u001b[0m | \u001b[0m-4.02    \u001b[0m | \u001b[0m-3.305   \u001b[0m | \u001b[0m-2.934   \u001b[0m | \u001b[0m-4.712   \u001b[0m | \u001b[0m-2.977   \u001b[0m | \u001b[0m-2.958   \u001b[0m | \u001b[0m-3.929   \u001b[0m |\n",
      "| \u001b[0m 197     \u001b[0m | \u001b[0m-110.4   \u001b[0m | \u001b[0m-1.0     \u001b[0m | \u001b[0m-1.0     \u001b[0m | \u001b[0m 1.076   \u001b[0m | \u001b[0m 0.3663  \u001b[0m | \u001b[0m 0.1728  \u001b[0m | \u001b[0m-3.965   \u001b[0m | \u001b[0m-4.034   \u001b[0m | \u001b[0m-4.46    \u001b[0m | \u001b[0m-4.642   \u001b[0m | \u001b[0m-3.991   \u001b[0m | \u001b[0m-5.246   \u001b[0m | \u001b[0m-4.726   \u001b[0m | \u001b[0m-4.22    \u001b[0m | \u001b[0m-4.796   \u001b[0m | \u001b[0m-3.344   \u001b[0m | \u001b[0m-4.753   \u001b[0m | \u001b[0m-4.79    \u001b[0m | \u001b[0m-4.979   \u001b[0m | \u001b[0m-3.454   \u001b[0m | \u001b[0m-4.793   \u001b[0m | \u001b[0m-3.123   \u001b[0m | \u001b[0m-4.383   \u001b[0m | \u001b[0m-4.196   \u001b[0m | \u001b[0m-5.205   \u001b[0m | \u001b[0m-3.479   \u001b[0m | \u001b[0m-5.137   \u001b[0m | \u001b[0m-3.502   \u001b[0m |\n",
      "| \u001b[0m 198     \u001b[0m | \u001b[0m-66.1    \u001b[0m | \u001b[0m-1.0     \u001b[0m | \u001b[0m-1.0     \u001b[0m | \u001b[0m 0.7917  \u001b[0m | \u001b[0m-0.1561  \u001b[0m | \u001b[0m 1.237   \u001b[0m | \u001b[0m-3.803   \u001b[0m | \u001b[0m-4.295   \u001b[0m | \u001b[0m-4.628   \u001b[0m | \u001b[0m-4.189   \u001b[0m | \u001b[0m-3.929   \u001b[0m | \u001b[0m-2.654   \u001b[0m | \u001b[0m-4.548   \u001b[0m | \u001b[0m-2.895   \u001b[0m | \u001b[0m-3.196   \u001b[0m | \u001b[0m-3.635   \u001b[0m | \u001b[0m-4.68    \u001b[0m | \u001b[0m-3.35    \u001b[0m | \u001b[0m-4.49    \u001b[0m | \u001b[0m-3.289   \u001b[0m | \u001b[0m-3.283   \u001b[0m | \u001b[0m-3.369   \u001b[0m | \u001b[0m-3.184   \u001b[0m | \u001b[0m-3.908   \u001b[0m | \u001b[0m-3.481   \u001b[0m | \u001b[0m-3.037   \u001b[0m | \u001b[0m-2.782   \u001b[0m | \u001b[0m-4.106   \u001b[0m |\n"
     ]
    },
    {
     "name": "stdout",
     "output_type": "stream",
     "text": [
      "| \u001b[0m 199     \u001b[0m | \u001b[0m-95.92   \u001b[0m | \u001b[0m-1.0     \u001b[0m | \u001b[0m-1.0     \u001b[0m | \u001b[0m 0.2515  \u001b[0m | \u001b[0m-0.01527 \u001b[0m | \u001b[0m 1.185   \u001b[0m | \u001b[0m-2.597   \u001b[0m | \u001b[0m-4.083   \u001b[0m | \u001b[0m-3.766   \u001b[0m | \u001b[0m-5.395   \u001b[0m | \u001b[0m-5.648   \u001b[0m | \u001b[0m-3.367   \u001b[0m | \u001b[0m-5.805   \u001b[0m | \u001b[0m-4.198   \u001b[0m | \u001b[0m-4.332   \u001b[0m | \u001b[0m-5.063   \u001b[0m | \u001b[0m-4.722   \u001b[0m | \u001b[0m-4.92    \u001b[0m | \u001b[0m-4.712   \u001b[0m | \u001b[0m-4.487   \u001b[0m | \u001b[0m-3.155   \u001b[0m | \u001b[0m-3.574   \u001b[0m | \u001b[0m-4.459   \u001b[0m | \u001b[0m-3.929   \u001b[0m | \u001b[0m-4.551   \u001b[0m | \u001b[0m-4.488   \u001b[0m | \u001b[0m-3.018   \u001b[0m | \u001b[0m-3.68    \u001b[0m |\n",
      "| \u001b[0m 200     \u001b[0m | \u001b[0m-88.39   \u001b[0m | \u001b[0m-1.0     \u001b[0m | \u001b[0m-1.0     \u001b[0m | \u001b[0m 0.7194  \u001b[0m | \u001b[0m-0.436   \u001b[0m | \u001b[0m 1.113   \u001b[0m | \u001b[0m-2.865   \u001b[0m | \u001b[0m-4.794   \u001b[0m | \u001b[0m-4.475   \u001b[0m | \u001b[0m-4.688   \u001b[0m | \u001b[0m-3.707   \u001b[0m | \u001b[0m-4.823   \u001b[0m | \u001b[0m-4.4     \u001b[0m | \u001b[0m-3.941   \u001b[0m | \u001b[0m-4.049   \u001b[0m | \u001b[0m-3.867   \u001b[0m | \u001b[0m-4.8     \u001b[0m | \u001b[0m-3.804   \u001b[0m | \u001b[0m-5.979   \u001b[0m | \u001b[0m-2.593   \u001b[0m | \u001b[0m-2.839   \u001b[0m | \u001b[0m-3.334   \u001b[0m | \u001b[0m-4.122   \u001b[0m | \u001b[0m-3.537   \u001b[0m | \u001b[0m-5.725   \u001b[0m | \u001b[0m-4.891   \u001b[0m | \u001b[0m-3.997   \u001b[0m | \u001b[0m-3.175   \u001b[0m |\n",
      "| \u001b[0m 201     \u001b[0m | \u001b[0m-80.84   \u001b[0m | \u001b[0m-1.0     \u001b[0m | \u001b[0m-1.0     \u001b[0m | \u001b[0m 1.416   \u001b[0m | \u001b[0m-1.092   \u001b[0m | \u001b[0m 1.365   \u001b[0m | \u001b[0m-3.705   \u001b[0m | \u001b[0m-4.92    \u001b[0m | \u001b[0m-2.7     \u001b[0m | \u001b[0m-4.189   \u001b[0m | \u001b[0m-4.757   \u001b[0m | \u001b[0m-5.264   \u001b[0m | \u001b[0m-3.741   \u001b[0m | \u001b[0m-3.362   \u001b[0m | \u001b[0m-4.527   \u001b[0m | \u001b[0m-3.877   \u001b[0m | \u001b[0m-4.158   \u001b[0m | \u001b[0m-4.112   \u001b[0m | \u001b[0m-3.441   \u001b[0m | \u001b[0m-4.59    \u001b[0m | \u001b[0m-3.756   \u001b[0m | \u001b[0m-4.487   \u001b[0m | \u001b[0m-5.605   \u001b[0m | \u001b[0m-5.146   \u001b[0m | \u001b[0m-3.539   \u001b[0m | \u001b[0m-3.771   \u001b[0m | \u001b[0m-4.283   \u001b[0m | \u001b[0m-4.298   \u001b[0m |\n",
      "| \u001b[0m 202     \u001b[0m | \u001b[0m-96.59   \u001b[0m | \u001b[0m-1.0     \u001b[0m | \u001b[0m-1.0     \u001b[0m | \u001b[0m 1.907   \u001b[0m | \u001b[0m-0.4909  \u001b[0m | \u001b[0m 1.935   \u001b[0m | \u001b[0m-4.316   \u001b[0m | \u001b[0m-4.7     \u001b[0m | \u001b[0m-3.684   \u001b[0m | \u001b[0m-4.81    \u001b[0m | \u001b[0m-4.691   \u001b[0m | \u001b[0m-3.841   \u001b[0m | \u001b[0m-3.272   \u001b[0m | \u001b[0m-4.958   \u001b[0m | \u001b[0m-5.301   \u001b[0m | \u001b[0m-2.206   \u001b[0m | \u001b[0m-4.408   \u001b[0m | \u001b[0m-3.786   \u001b[0m | \u001b[0m-4.993   \u001b[0m | \u001b[0m-3.267   \u001b[0m | \u001b[0m-4.278   \u001b[0m | \u001b[0m-3.832   \u001b[0m | \u001b[0m-4.113   \u001b[0m | \u001b[0m-4.236   \u001b[0m | \u001b[0m-4.612   \u001b[0m | \u001b[0m-2.908   \u001b[0m | \u001b[0m-2.649   \u001b[0m | \u001b[0m-3.398   \u001b[0m |\n",
      "| \u001b[0m 203     \u001b[0m | \u001b[0m-172.8   \u001b[0m | \u001b[0m-1.0     \u001b[0m | \u001b[0m-1.0     \u001b[0m | \u001b[0m 0.3278  \u001b[0m | \u001b[0m-0.8328  \u001b[0m | \u001b[0m 1.514   \u001b[0m | \u001b[0m-3.65    \u001b[0m | \u001b[0m-4.104   \u001b[0m | \u001b[0m-3.034   \u001b[0m | \u001b[0m-5.268   \u001b[0m | \u001b[0m-4.742   \u001b[0m | \u001b[0m-3.366   \u001b[0m | \u001b[0m-4.955   \u001b[0m | \u001b[0m-2.923   \u001b[0m | \u001b[0m-4.3     \u001b[0m | \u001b[0m-3.539   \u001b[0m | \u001b[0m-3.92    \u001b[0m | \u001b[0m-2.849   \u001b[0m | \u001b[0m-4.275   \u001b[0m | \u001b[0m-2.231   \u001b[0m | \u001b[0m-3.899   \u001b[0m | \u001b[0m-4.498   \u001b[0m | \u001b[0m-3.753   \u001b[0m | \u001b[0m-2.85    \u001b[0m | \u001b[0m-5.356   \u001b[0m | \u001b[0m-3.892   \u001b[0m | \u001b[0m-3.151   \u001b[0m | \u001b[0m-4.614   \u001b[0m |\n",
      "| \u001b[0m 204     \u001b[0m | \u001b[0m-93.33   \u001b[0m | \u001b[0m-1.0     \u001b[0m | \u001b[0m-1.0     \u001b[0m | \u001b[0m 0.375   \u001b[0m | \u001b[0m-0.06347 \u001b[0m | \u001b[0m 1.454   \u001b[0m | \u001b[0m-2.831   \u001b[0m | \u001b[0m-5.438   \u001b[0m | \u001b[0m-4.145   \u001b[0m | \u001b[0m-4.994   \u001b[0m | \u001b[0m-5.826   \u001b[0m | \u001b[0m-4.778   \u001b[0m | \u001b[0m-4.222   \u001b[0m | \u001b[0m-4.218   \u001b[0m | \u001b[0m-3.48    \u001b[0m | \u001b[0m-3.108   \u001b[0m | \u001b[0m-5.143   \u001b[0m | \u001b[0m-4.637   \u001b[0m | \u001b[0m-3.693   \u001b[0m | \u001b[0m-5.131   \u001b[0m | \u001b[0m-4.163   \u001b[0m | \u001b[0m-3.335   \u001b[0m | \u001b[0m-3.399   \u001b[0m | \u001b[0m-4.153   \u001b[0m | \u001b[0m-2.721   \u001b[0m | \u001b[0m-3.235   \u001b[0m | \u001b[0m-3.687   \u001b[0m | \u001b[0m-2.684   \u001b[0m |\n",
      "| \u001b[0m 205     \u001b[0m | \u001b[0m-84.82   \u001b[0m | \u001b[0m-1.0     \u001b[0m | \u001b[0m-1.0     \u001b[0m | \u001b[0m 0.5507  \u001b[0m | \u001b[0m-0.001378\u001b[0m | \u001b[0m 0.3695  \u001b[0m | \u001b[0m-3.476   \u001b[0m | \u001b[0m-4.693   \u001b[0m | \u001b[0m-3.789   \u001b[0m | \u001b[0m-4.805   \u001b[0m | \u001b[0m-5.068   \u001b[0m | \u001b[0m-5.125   \u001b[0m | \u001b[0m-5.218   \u001b[0m | \u001b[0m-4.192   \u001b[0m | \u001b[0m-3.493   \u001b[0m | \u001b[0m-4.172   \u001b[0m | \u001b[0m-3.734   \u001b[0m | \u001b[0m-4.323   \u001b[0m | \u001b[0m-4.14    \u001b[0m | \u001b[0m-2.775   \u001b[0m | \u001b[0m-3.653   \u001b[0m | \u001b[0m-5.078   \u001b[0m | \u001b[0m-4.339   \u001b[0m | \u001b[0m-3.859   \u001b[0m | \u001b[0m-5.398   \u001b[0m | \u001b[0m-3.624   \u001b[0m | \u001b[0m-3.951   \u001b[0m | \u001b[0m-2.637   \u001b[0m |\n",
      "| \u001b[0m 206     \u001b[0m | \u001b[0m-79.22   \u001b[0m | \u001b[0m-1.0     \u001b[0m | \u001b[0m-1.0     \u001b[0m | \u001b[0m 1.043   \u001b[0m | \u001b[0m-0.6545  \u001b[0m | \u001b[0m 0.9759  \u001b[0m | \u001b[0m-3.483   \u001b[0m | \u001b[0m-4.741   \u001b[0m | \u001b[0m-3.95    \u001b[0m | \u001b[0m-5.385   \u001b[0m | \u001b[0m-3.39    \u001b[0m | \u001b[0m-3.291   \u001b[0m | \u001b[0m-4.956   \u001b[0m | \u001b[0m-3.068   \u001b[0m | \u001b[0m-2.869   \u001b[0m | \u001b[0m-4.317   \u001b[0m | \u001b[0m-5.199   \u001b[0m | \u001b[0m-4.056   \u001b[0m | \u001b[0m-4.091   \u001b[0m | \u001b[0m-2.304   \u001b[0m | \u001b[0m-3.26    \u001b[0m | \u001b[0m-4.02    \u001b[0m | \u001b[0m-4.403   \u001b[0m | \u001b[0m-3.124   \u001b[0m | \u001b[0m-3.32    \u001b[0m | \u001b[0m-3.318   \u001b[0m | \u001b[0m-3.627   \u001b[0m | \u001b[0m-3.837   \u001b[0m |\n",
      "| \u001b[0m 207     \u001b[0m | \u001b[0m-2.392e+0\u001b[0m | \u001b[0m-1.0     \u001b[0m | \u001b[0m-1.0     \u001b[0m | \u001b[0m 0.894   \u001b[0m | \u001b[0m-1.224   \u001b[0m | \u001b[0m 1.457   \u001b[0m | \u001b[0m-3.966   \u001b[0m | \u001b[0m-5.51    \u001b[0m | \u001b[0m-4.231   \u001b[0m | \u001b[0m-4.16    \u001b[0m | \u001b[0m-2.828   \u001b[0m | \u001b[0m-4.132   \u001b[0m | \u001b[0m-3.474   \u001b[0m | \u001b[0m-4.236   \u001b[0m | \u001b[0m-3.821   \u001b[0m | \u001b[0m-3.544   \u001b[0m | \u001b[0m-3.619   \u001b[0m | \u001b[0m-4.805   \u001b[0m | \u001b[0m-5.09    \u001b[0m | \u001b[0m-3.564   \u001b[0m | \u001b[0m-4.614   \u001b[0m | \u001b[0m-5.16    \u001b[0m | \u001b[0m-4.841   \u001b[0m | \u001b[0m-4.615   \u001b[0m | \u001b[0m-3.758   \u001b[0m | \u001b[0m-2.223   \u001b[0m | \u001b[0m-3.598   \u001b[0m | \u001b[0m-3.23    \u001b[0m |\n",
      "| \u001b[0m 208     \u001b[0m | \u001b[0m-83.61   \u001b[0m | \u001b[0m-1.0     \u001b[0m | \u001b[0m-1.0     \u001b[0m | \u001b[0m 0.394   \u001b[0m | \u001b[0m-0.2573  \u001b[0m | \u001b[0m 1.096   \u001b[0m | \u001b[0m-4.833   \u001b[0m | \u001b[0m-4.545   \u001b[0m | \u001b[0m-3.547   \u001b[0m | \u001b[0m-5.242   \u001b[0m | \u001b[0m-3.668   \u001b[0m | \u001b[0m-4.84    \u001b[0m | \u001b[0m-5.002   \u001b[0m | \u001b[0m-2.534   \u001b[0m | \u001b[0m-2.593   \u001b[0m | \u001b[0m-4.042   \u001b[0m | \u001b[0m-4.223   \u001b[0m | \u001b[0m-4.137   \u001b[0m | \u001b[0m-5.823   \u001b[0m | \u001b[0m-3.303   \u001b[0m | \u001b[0m-4.105   \u001b[0m | \u001b[0m-4.127   \u001b[0m | \u001b[0m-4.869   \u001b[0m | \u001b[0m-3.179   \u001b[0m | \u001b[0m-3.559   \u001b[0m | \u001b[0m-3.695   \u001b[0m | \u001b[0m-3.353   \u001b[0m | \u001b[0m-2.658   \u001b[0m |\n",
      "| \u001b[0m 209     \u001b[0m | \u001b[0m-59.04   \u001b[0m | \u001b[0m-1.0     \u001b[0m | \u001b[0m-1.0     \u001b[0m | \u001b[0m 1.41    \u001b[0m | \u001b[0m-0.8367  \u001b[0m | \u001b[0m 1.2     \u001b[0m | \u001b[0m-3.464   \u001b[0m | \u001b[0m-5.438   \u001b[0m | \u001b[0m-3.613   \u001b[0m | \u001b[0m-4.888   \u001b[0m | \u001b[0m-3.545   \u001b[0m | \u001b[0m-3.811   \u001b[0m | \u001b[0m-4.693   \u001b[0m | \u001b[0m-2.499   \u001b[0m | \u001b[0m-3.706   \u001b[0m | \u001b[0m-4.731   \u001b[0m | \u001b[0m-4.254   \u001b[0m | \u001b[0m-2.771   \u001b[0m | \u001b[0m-3.73    \u001b[0m | \u001b[0m-2.401   \u001b[0m | \u001b[0m-3.604   \u001b[0m | \u001b[0m-4.203   \u001b[0m | \u001b[0m-3.639   \u001b[0m | \u001b[0m-4.256   \u001b[0m | \u001b[0m-5.658   \u001b[0m | \u001b[0m-2.898   \u001b[0m | \u001b[0m-3.524   \u001b[0m | \u001b[0m-2.792   \u001b[0m |\n",
      "| \u001b[0m 210     \u001b[0m | \u001b[0m-72.46   \u001b[0m | \u001b[0m-1.0     \u001b[0m | \u001b[0m-1.0     \u001b[0m | \u001b[0m 1.963   \u001b[0m | \u001b[0m-0.108   \u001b[0m | \u001b[0m 0.7267  \u001b[0m | \u001b[0m-3.233   \u001b[0m | \u001b[0m-4.543   \u001b[0m | \u001b[0m-2.988   \u001b[0m | \u001b[0m-4.967   \u001b[0m | \u001b[0m-3.08    \u001b[0m | \u001b[0m-3.301   \u001b[0m | \u001b[0m-4.944   \u001b[0m | \u001b[0m-2.18    \u001b[0m | \u001b[0m-4.572   \u001b[0m | \u001b[0m-4.814   \u001b[0m | \u001b[0m-3.275   \u001b[0m | \u001b[0m-3.954   \u001b[0m | \u001b[0m-4.656   \u001b[0m | \u001b[0m-3.565   \u001b[0m | \u001b[0m-3.146   \u001b[0m | \u001b[0m-4.464   \u001b[0m | \u001b[0m-5.916   \u001b[0m | \u001b[0m-4.297   \u001b[0m | \u001b[0m-4.096   \u001b[0m | \u001b[0m-2.539   \u001b[0m | \u001b[0m-3.578   \u001b[0m | \u001b[0m-3.622   \u001b[0m |\n",
      "| \u001b[0m 211     \u001b[0m | \u001b[0m-66.68   \u001b[0m | \u001b[0m-1.0     \u001b[0m | \u001b[0m-1.0     \u001b[0m | \u001b[0m 1.093   \u001b[0m | \u001b[0m 0.7837  \u001b[0m | \u001b[0m 1.235   \u001b[0m | \u001b[0m-2.905   \u001b[0m | \u001b[0m-5.394   \u001b[0m | \u001b[0m-2.107   \u001b[0m | \u001b[0m-3.65    \u001b[0m | \u001b[0m-4.689   \u001b[0m | \u001b[0m-4.132   \u001b[0m | \u001b[0m-2.919   \u001b[0m | \u001b[0m-3.226   \u001b[0m | \u001b[0m-3.312   \u001b[0m | \u001b[0m-3.855   \u001b[0m | \u001b[0m-4.883   \u001b[0m | \u001b[0m-3.456   \u001b[0m | \u001b[0m-3.529   \u001b[0m | \u001b[0m-3.244   \u001b[0m | \u001b[0m-3.437   \u001b[0m | \u001b[0m-4.111   \u001b[0m | \u001b[0m-3.116   \u001b[0m | \u001b[0m-4.17    \u001b[0m | \u001b[0m-3.433   \u001b[0m | \u001b[0m-2.111   \u001b[0m | \u001b[0m-3.286   \u001b[0m | \u001b[0m-3.743   \u001b[0m |\n",
      "| \u001b[0m 212     \u001b[0m | \u001b[0m-96.68   \u001b[0m | \u001b[0m-1.0     \u001b[0m | \u001b[0m-1.0     \u001b[0m | \u001b[0m 1.043   \u001b[0m | \u001b[0m-0.3531  \u001b[0m | \u001b[0m 1.664   \u001b[0m | \u001b[0m-4.129   \u001b[0m | \u001b[0m-4.257   \u001b[0m | \u001b[0m-3.486   \u001b[0m | \u001b[0m-5.418   \u001b[0m | \u001b[0m-4.617   \u001b[0m | \u001b[0m-2.681   \u001b[0m | \u001b[0m-4.439   \u001b[0m | \u001b[0m-5.184   \u001b[0m | \u001b[0m-4.619   \u001b[0m | \u001b[0m-5.168   \u001b[0m | \u001b[0m-4.828   \u001b[0m | \u001b[0m-4.642   \u001b[0m | \u001b[0m-4.877   \u001b[0m | \u001b[0m-2.974   \u001b[0m | \u001b[0m-4.202   \u001b[0m | \u001b[0m-3.742   \u001b[0m | \u001b[0m-3.081   \u001b[0m | \u001b[0m-2.845   \u001b[0m | \u001b[0m-4.4     \u001b[0m | \u001b[0m-3.489   \u001b[0m | \u001b[0m-3.891   \u001b[0m | \u001b[0m-4.265   \u001b[0m |\n",
      "| \u001b[0m 213     \u001b[0m | \u001b[0m-65.41   \u001b[0m | \u001b[0m-1.0     \u001b[0m | \u001b[0m-1.0     \u001b[0m | \u001b[0m 1.453   \u001b[0m | \u001b[0m-0.6377  \u001b[0m | \u001b[0m 1.635   \u001b[0m | \u001b[0m-4.0     \u001b[0m | \u001b[0m-3.934   \u001b[0m | \u001b[0m-4.35    \u001b[0m | \u001b[0m-4.636   \u001b[0m | \u001b[0m-4.36    \u001b[0m | \u001b[0m-3.639   \u001b[0m | \u001b[0m-4.315   \u001b[0m | \u001b[0m-3.593   \u001b[0m | \u001b[0m-4.302   \u001b[0m | \u001b[0m-5.018   \u001b[0m | \u001b[0m-5.039   \u001b[0m | \u001b[0m-5.034   \u001b[0m | \u001b[0m-5.153   \u001b[0m | \u001b[0m-3.63    \u001b[0m | \u001b[0m-4.027   \u001b[0m | \u001b[0m-4.825   \u001b[0m | \u001b[0m-3.935   \u001b[0m | \u001b[0m-3.142   \u001b[0m | \u001b[0m-4.825   \u001b[0m | \u001b[0m-2.955   \u001b[0m | \u001b[0m-3.545   \u001b[0m | \u001b[0m-4.094   \u001b[0m |\n"
     ]
    },
    {
     "name": "stdout",
     "output_type": "stream",
     "text": [
      "| \u001b[0m 214     \u001b[0m | \u001b[0m-442.9   \u001b[0m | \u001b[0m-1.0     \u001b[0m | \u001b[0m-1.0     \u001b[0m | \u001b[0m 0.1567  \u001b[0m | \u001b[0m-0.5082  \u001b[0m | \u001b[0m 1.295   \u001b[0m | \u001b[0m-2.359   \u001b[0m | \u001b[0m-5.673   \u001b[0m | \u001b[0m-3.882   \u001b[0m | \u001b[0m-4.447   \u001b[0m | \u001b[0m-4.702   \u001b[0m | \u001b[0m-5.429   \u001b[0m | \u001b[0m-3.705   \u001b[0m | \u001b[0m-4.869   \u001b[0m | \u001b[0m-2.85    \u001b[0m | \u001b[0m-3.067   \u001b[0m | \u001b[0m-4.731   \u001b[0m | \u001b[0m-5.186   \u001b[0m | \u001b[0m-4.548   \u001b[0m | \u001b[0m-3.89    \u001b[0m | \u001b[0m-3.961   \u001b[0m | \u001b[0m-4.569   \u001b[0m | \u001b[0m-4.807   \u001b[0m | \u001b[0m-3.556   \u001b[0m | \u001b[0m-4.268   \u001b[0m | \u001b[0m-2.8     \u001b[0m | \u001b[0m-3.565   \u001b[0m | \u001b[0m-3.658   \u001b[0m |\n",
      "| \u001b[0m 215     \u001b[0m | \u001b[0m-69.65   \u001b[0m | \u001b[0m-1.0     \u001b[0m | \u001b[0m-1.0     \u001b[0m | \u001b[0m 1.727   \u001b[0m | \u001b[0m-0.5856  \u001b[0m | \u001b[0m 0.6578  \u001b[0m | \u001b[0m-4.137   \u001b[0m | \u001b[0m-3.718   \u001b[0m | \u001b[0m-2.215   \u001b[0m | \u001b[0m-5.288   \u001b[0m | \u001b[0m-4.325   \u001b[0m | \u001b[0m-4.562   \u001b[0m | \u001b[0m-5.298   \u001b[0m | \u001b[0m-3.403   \u001b[0m | \u001b[0m-3.217   \u001b[0m | \u001b[0m-4.484   \u001b[0m | \u001b[0m-4.288   \u001b[0m | \u001b[0m-4.464   \u001b[0m | \u001b[0m-3.544   \u001b[0m | \u001b[0m-2.3     \u001b[0m | \u001b[0m-4.011   \u001b[0m | \u001b[0m-3.29    \u001b[0m | \u001b[0m-3.02    \u001b[0m | \u001b[0m-4.113   \u001b[0m | \u001b[0m-4.297   \u001b[0m | \u001b[0m-3.154   \u001b[0m | \u001b[0m-5.2     \u001b[0m | \u001b[0m-3.761   \u001b[0m |\n",
      "| \u001b[0m 216     \u001b[0m | \u001b[0m-113.1   \u001b[0m | \u001b[0m-1.0     \u001b[0m | \u001b[0m-1.0     \u001b[0m | \u001b[0m 0.8814  \u001b[0m | \u001b[0m-1.012   \u001b[0m | \u001b[0m 0.8694  \u001b[0m | \u001b[0m-3.263   \u001b[0m | \u001b[0m-4.9     \u001b[0m | \u001b[0m-5.075   \u001b[0m | \u001b[0m-3.606   \u001b[0m | \u001b[0m-4.837   \u001b[0m | \u001b[0m-5.59    \u001b[0m | \u001b[0m-4.312   \u001b[0m | \u001b[0m-4.11    \u001b[0m | \u001b[0m-3.483   \u001b[0m | \u001b[0m-3.691   \u001b[0m | \u001b[0m-5.201   \u001b[0m | \u001b[0m-3.973   \u001b[0m | \u001b[0m-4.839   \u001b[0m | \u001b[0m-3.41    \u001b[0m | \u001b[0m-3.618   \u001b[0m | \u001b[0m-2.52    \u001b[0m | \u001b[0m-5.069   \u001b[0m | \u001b[0m-4.334   \u001b[0m | \u001b[0m-5.112   \u001b[0m | \u001b[0m-3.104   \u001b[0m | \u001b[0m-3.466   \u001b[0m | \u001b[0m-3.145   \u001b[0m |\n",
      "| \u001b[0m 217     \u001b[0m | \u001b[0m-83.67   \u001b[0m | \u001b[0m-1.0     \u001b[0m | \u001b[0m-1.0     \u001b[0m | \u001b[0m 0.9448  \u001b[0m | \u001b[0m-0.4674  \u001b[0m | \u001b[0m 1.719   \u001b[0m | \u001b[0m-3.819   \u001b[0m | \u001b[0m-5.464   \u001b[0m | \u001b[0m-4.021   \u001b[0m | \u001b[0m-3.281   \u001b[0m | \u001b[0m-3.486   \u001b[0m | \u001b[0m-3.669   \u001b[0m | \u001b[0m-4.9     \u001b[0m | \u001b[0m-3.753   \u001b[0m | \u001b[0m-4.418   \u001b[0m | \u001b[0m-3.444   \u001b[0m | \u001b[0m-3.328   \u001b[0m | \u001b[0m-4.113   \u001b[0m | \u001b[0m-5.022   \u001b[0m | \u001b[0m-4.599   \u001b[0m | \u001b[0m-2.921   \u001b[0m | \u001b[0m-3.802   \u001b[0m | \u001b[0m-4.147   \u001b[0m | \u001b[0m-5.189   \u001b[0m | \u001b[0m-4.34    \u001b[0m | \u001b[0m-3.78    \u001b[0m | \u001b[0m-4.176   \u001b[0m | \u001b[0m-4.64    \u001b[0m |\n",
      "| \u001b[0m 218     \u001b[0m | \u001b[0m-121.9   \u001b[0m | \u001b[0m-1.0     \u001b[0m | \u001b[0m-1.0     \u001b[0m | \u001b[0m 0.6594  \u001b[0m | \u001b[0m-0.5215  \u001b[0m | \u001b[0m 1.017   \u001b[0m | \u001b[0m-3.334   \u001b[0m | \u001b[0m-4.163   \u001b[0m | \u001b[0m-3.0     \u001b[0m | \u001b[0m-4.996   \u001b[0m | \u001b[0m-3.37    \u001b[0m | \u001b[0m-3.907   \u001b[0m | \u001b[0m-4.296   \u001b[0m | \u001b[0m-4.554   \u001b[0m | \u001b[0m-3.304   \u001b[0m | \u001b[0m-2.788   \u001b[0m | \u001b[0m-2.543   \u001b[0m | \u001b[0m-3.428   \u001b[0m | \u001b[0m-4.928   \u001b[0m | \u001b[0m-4.356   \u001b[0m | \u001b[0m-4.566   \u001b[0m | \u001b[0m-2.417   \u001b[0m | \u001b[0m-3.628   \u001b[0m | \u001b[0m-4.476   \u001b[0m | \u001b[0m-4.928   \u001b[0m | \u001b[0m-3.961   \u001b[0m | \u001b[0m-3.991   \u001b[0m | \u001b[0m-3.668   \u001b[0m |\n",
      "| \u001b[0m 219     \u001b[0m | \u001b[0m-3.373e+0\u001b[0m | \u001b[0m-1.0     \u001b[0m | \u001b[0m-1.0     \u001b[0m | \u001b[0m 0.1678  \u001b[0m | \u001b[0m 1.498   \u001b[0m | \u001b[0m 1.125   \u001b[0m | \u001b[0m-3.552   \u001b[0m | \u001b[0m-3.629   \u001b[0m | \u001b[0m-3.288   \u001b[0m | \u001b[0m-4.843   \u001b[0m | \u001b[0m-5.512   \u001b[0m | \u001b[0m-4.992   \u001b[0m | \u001b[0m-5.444   \u001b[0m | \u001b[0m-3.192   \u001b[0m | \u001b[0m-5.124   \u001b[0m | \u001b[0m-4.02    \u001b[0m | \u001b[0m-3.822   \u001b[0m | \u001b[0m-4.37    \u001b[0m | \u001b[0m-4.524   \u001b[0m | \u001b[0m-4.352   \u001b[0m | \u001b[0m-4.443   \u001b[0m | \u001b[0m-3.455   \u001b[0m | \u001b[0m-5.234   \u001b[0m | \u001b[0m-3.291   \u001b[0m | \u001b[0m-4.201   \u001b[0m | \u001b[0m-2.928   \u001b[0m | \u001b[0m-3.505   \u001b[0m | \u001b[0m-3.631   \u001b[0m |\n",
      "| \u001b[0m 220     \u001b[0m | \u001b[0m-3.064e+0\u001b[0m | \u001b[0m-1.0     \u001b[0m | \u001b[0m-1.0     \u001b[0m | \u001b[0m 0.09885 \u001b[0m | \u001b[0m-0.9283  \u001b[0m | \u001b[0m 0.02907 \u001b[0m | \u001b[0m-2.62    \u001b[0m | \u001b[0m-5.8     \u001b[0m | \u001b[0m-3.523   \u001b[0m | \u001b[0m-3.832   \u001b[0m | \u001b[0m-5.08    \u001b[0m | \u001b[0m-5.22    \u001b[0m | \u001b[0m-3.897   \u001b[0m | \u001b[0m-2.277   \u001b[0m | \u001b[0m-5.482   \u001b[0m | \u001b[0m-3.751   \u001b[0m | \u001b[0m-4.219   \u001b[0m | \u001b[0m-3.975   \u001b[0m | \u001b[0m-5.544   \u001b[0m | \u001b[0m-2.983   \u001b[0m | \u001b[0m-2.589   \u001b[0m | \u001b[0m-3.761   \u001b[0m | \u001b[0m-4.733   \u001b[0m | \u001b[0m-3.198   \u001b[0m | \u001b[0m-5.379   \u001b[0m | \u001b[0m-3.166   \u001b[0m | \u001b[0m-4.092   \u001b[0m | \u001b[0m-2.437   \u001b[0m |\n",
      "=============================================================================================================================================================================================================================================================================================================================================================\n"
     ]
    }
   ],
   "source": [
    "optimizer.maximize(\n",
    "    init_points=10,\n",
    "    n_iter=100,\n",
    ")"
   ]
  },
  {
   "cell_type": "code",
   "execution_count": null,
   "metadata": {},
   "outputs": [],
   "source": []
  },
  {
   "cell_type": "code",
   "execution_count": 13,
   "metadata": {},
   "outputs": [
    {
     "name": "stdout",
     "output_type": "stream",
     "text": [
      "{'target': -30.146467090950367, 'params': {'Noise_variance1': -3.9300461803486906, 'Noise_variance2': -5.784254301164108, 'Omega11': 0.7959812788158449, 'Omega12': 0.017226052352431243, 'Omega22': 0.3791034056678546, 'Sigma_u1': -2.1400443035563446, 'Sigma_u10': -4.823137247022981, 'Sigma_u11': -5.586161775534395, 'Sigma_u12': -5.422738399083808, 'Sigma_u13': -5.943630823230228, 'Sigma_u14': -3.136217202150422, 'Sigma_u15': -3.7420067190365036, 'Sigma_u16': -2.8216865952609913, 'Sigma_u17': -3.9716803068634543, 'Sigma_u18': -2.8327158419833847, 'Sigma_u19': -3.2169431429126423, 'Sigma_u2': -2.8886060925632986, 'Sigma_u20': -4.374068524091655, 'Sigma_u21': -3.4089174672500753, 'Sigma_u22': -5.280822809228102, 'Sigma_u3': -4.712720146448384, 'Sigma_u4': -5.30958151952083, 'Sigma_u5': -4.3654510999469505, 'Sigma_u6': -5.034325008137605, 'Sigma_u7': -4.372312023482568, 'Sigma_u8': -2.0991106302507516, 'Sigma_u9': -4.718722696711875}}\n"
     ]
    }
   ],
   "source": [
    "print(optimizer.max)      "
   ]
  },
  {
   "cell_type": "code",
   "execution_count": null,
   "metadata": {},
   "outputs": [],
   "source": []
  },
  {
   "cell_type": "markdown",
   "metadata": {},
   "source": [
    "# Single Layer Neural Network"
   ]
  },
  {
   "cell_type": "code",
   "execution_count": null,
   "metadata": {},
   "outputs": [],
   "source": []
  },
  {
   "cell_type": "code",
   "execution_count": null,
   "metadata": {},
   "outputs": [],
   "source": [
    "from sklearn.neural_network import MLPRegressor\n",
    "\n",
    "num_hidd_units = 700\n",
    "\n",
    "for rs in range(0, 1):\n",
    "    clf = MLPRegressor(hidden_layer_sizes= (num_hidd_units, ), activation='logistic' ,random_state=rs,  solver='adam', max_iter=100000)\n",
    "    clf.fit(X_train_org, Y_train_org)\n",
    "    Y_pred_NN = clf.predict(X_valid_org)\n",
    "    Y_pred_NN1 = Y_pred_NN.flatten()\n",
    "    Y_valid_org1 = Y_valid_org.flatten()\n",
    "    \n",
    "    stats = get_stats(Y_pred_NN1, Y_valid_org1)\n",
    "    print( -stats['msr'] )\n",
    "    \n",
    "    \n",
    "\n"
   ]
  },
  {
   "cell_type": "code",
   "execution_count": null,
   "metadata": {},
   "outputs": [],
   "source": [
    "math.pow(10, -0.7248)"
   ]
  },
  {
   "cell_type": "code",
   "execution_count": null,
   "metadata": {},
   "outputs": [],
   "source": []
  }
 ],
 "metadata": {
  "kernelspec": {
   "display_name": "Python 3",
   "language": "python",
   "name": "python3"
  },
  "language_info": {
   "codemirror_mode": {
    "name": "ipython",
    "version": 3
   },
   "file_extension": ".py",
   "mimetype": "text/x-python",
   "name": "python",
   "nbconvert_exporter": "python",
   "pygments_lexer": "ipython3",
   "version": "3.6.8"
  }
 },
 "nbformat": 4,
 "nbformat_minor": 2
}
